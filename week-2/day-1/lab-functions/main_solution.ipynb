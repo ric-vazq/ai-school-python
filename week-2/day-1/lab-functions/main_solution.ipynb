{
 "cells": [
  {
   "cell_type": "markdown",
   "metadata": {},
   "source": [
    "# Functions"
   ]
  },
  {
   "cell_type": "markdown",
   "metadata": {},
   "source": [
    "On this lab we will put to practice some of the concepts we have learned on this past few days.\n",
    "\n",
    "`NOTE: On this lab you should try to write all the functions yourself using only the most basic of python syntax and without functions such as len, count, sum, max, min, in, etc. Give it a try. 🧑🏻‍💻👩🏻‍💻`\n",
    "\n",
    "The cell after each exercise contains a few tests to check if your function works as expected."
   ]
  },
  {
   "cell_type": "code",
   "execution_count": 1,
   "metadata": {},
   "outputs": [],
   "source": [
    "from mod.testing import *\n",
    "import unittest"
   ]
  },
  {
   "cell_type": "markdown",
   "metadata": {},
   "source": [
    "## 1. Write a function that returns the greater of two numbers"
   ]
  },
  {
   "cell_type": "code",
   "execution_count": 95,
   "metadata": {},
   "outputs": [],
   "source": [
    "def greater(a,b):\n",
    "    if a > b:\n",
    "        return a\n",
    "    else:\n",
    "        return b"
   ]
  },
  {
   "cell_type": "code",
   "execution_count": 96,
   "metadata": {},
   "outputs": [
    {
     "name": "stderr",
     "output_type": "stream",
     "text": [
      "....................................................................................................\n",
      "----------------------------------------------------------------------\n",
      "Ran 100 tests in 0.531s\n",
      "\n",
      "OK\n"
     ]
    }
   ],
   "source": [
    "# This will test your function \n",
    "test_greater(greater)"
   ]
  },
  {
   "cell_type": "code",
   "execution_count": 97,
   "metadata": {},
   "outputs": [
    {
     "data": {
      "text/plain": [
       "6"
      ]
     },
     "execution_count": 97,
     "metadata": {},
     "output_type": "execute_result"
    }
   ],
   "source": [
    "greater(4,6)"
   ]
  },
  {
   "cell_type": "code",
   "execution_count": null,
   "metadata": {},
   "outputs": [],
   "source": []
  },
  {
   "cell_type": "markdown",
   "metadata": {},
   "source": [
    "## 2. Now write a function that returns the largest element on a list"
   ]
  },
  {
   "cell_type": "code",
   "execution_count": 98,
   "metadata": {},
   "outputs": [],
   "source": [
    "def greatest(lst):\n",
    "    lst.sort()\n",
    "    return lst[-1]"
   ]
  },
  {
   "cell_type": "code",
   "execution_count": 99,
   "metadata": {},
   "outputs": [],
   "source": [
    "lst = [1,2,3,4,5,66]"
   ]
  },
  {
   "cell_type": "code",
   "execution_count": 100,
   "metadata": {},
   "outputs": [],
   "source": [
    "def gratest(arr): # Found it online\n",
    "    for i in arr:\n",
    "        if largest_element == None: # First loop there is no largest\n",
    "            largest_element = largest # First loop largest will be the first \"i\"\n",
    "        elif largest > i:\n",
    "            print(largest)\n",
    "    return "
   ]
  },
  {
   "cell_type": "code",
   "execution_count": 173,
   "metadata": {},
   "outputs": [],
   "source": [
    "def greatest(arr):\n",
    "    \"\"\"\n",
    "    Function that returns a value out of a list\n",
    "    Takes a list of numbers\n",
    "    Returns the highest value in that list\n",
    "    \"\"\"\n",
    "    the_greatest = arr[0]\n",
    "    for i in arr:\n",
    "        if i > the_greatest:\n",
    "            the_greatest = i\n",
    "    return the_greatest"
   ]
  },
  {
   "cell_type": "code",
   "execution_count": 174,
   "metadata": {},
   "outputs": [
    {
     "data": {
      "text/plain": [
       "89"
      ]
     },
     "execution_count": 174,
     "metadata": {},
     "output_type": "execute_result"
    }
   ],
   "source": [
    "greatest(lst)"
   ]
  },
  {
   "cell_type": "code",
   "execution_count": 175,
   "metadata": {},
   "outputs": [
    {
     "name": "stderr",
     "output_type": "stream",
     "text": [
      "....................................................................................................\n",
      "----------------------------------------------------------------------\n",
      "Ran 100 tests in 1.097s\n",
      "\n",
      "OK\n"
     ]
    }
   ],
   "source": [
    "# This will test your function \n",
    "test_greatest(greatest)"
   ]
  },
  {
   "cell_type": "code",
   "execution_count": 103,
   "metadata": {
    "scrolled": true
   },
   "outputs": [
    {
     "name": "stdout",
     "output_type": "stream",
     "text": [
      "None\n"
     ]
    }
   ],
   "source": [
    "lst = [2,6,7,8,67,89,43,67]\n",
    "print(lst.sort())"
   ]
  },
  {
   "cell_type": "code",
   "execution_count": 104,
   "metadata": {
    "scrolled": true
   },
   "outputs": [
    {
     "data": {
      "text/plain": [
       "89"
      ]
     },
     "execution_count": 104,
     "metadata": {},
     "output_type": "execute_result"
    }
   ],
   "source": [
    "greatest(lst)"
   ]
  },
  {
   "cell_type": "markdown",
   "metadata": {},
   "source": [
    "## 3. Write a function that sums all the elements on a list"
   ]
  },
  {
   "cell_type": "code",
   "execution_count": 105,
   "metadata": {},
   "outputs": [],
   "source": [
    "def sum_all(lst):\n",
    "     counter = 0\n",
    "     for num in lst: \n",
    "        counter += num\n",
    "     return counter"
   ]
  },
  {
   "cell_type": "code",
   "execution_count": 106,
   "metadata": {
    "scrolled": true
   },
   "outputs": [
    {
     "name": "stderr",
     "output_type": "stream",
     "text": [
      "....................................................................................................\n",
      "----------------------------------------------------------------------\n",
      "Ran 100 tests in 0.418s\n",
      "\n",
      "OK\n"
     ]
    }
   ],
   "source": [
    "# This will test your function \n",
    "test_sum(sum_all)"
   ]
  },
  {
   "cell_type": "code",
   "execution_count": 107,
   "metadata": {},
   "outputs": [
    {
     "data": {
      "text/plain": [
       "289"
      ]
     },
     "execution_count": 107,
     "metadata": {},
     "output_type": "execute_result"
    }
   ],
   "source": [
    "sum_all(lst)"
   ]
  },
  {
   "cell_type": "markdown",
   "metadata": {},
   "source": [
    "## 4. Write another function that multiplies all the elements on a list"
   ]
  },
  {
   "cell_type": "code",
   "execution_count": 108,
   "metadata": {},
   "outputs": [],
   "source": [
    "def mult_all(lst):\n",
    "     product = 1\n",
    "     for num in lst: \n",
    "        product *= num\n",
    "     return product"
   ]
  },
  {
   "cell_type": "code",
   "execution_count": 109,
   "metadata": {},
   "outputs": [
    {
     "data": {
      "text/plain": [
       "11544558816"
      ]
     },
     "execution_count": 109,
     "metadata": {},
     "output_type": "execute_result"
    }
   ],
   "source": [
    "mult_all(lst)"
   ]
  },
  {
   "cell_type": "code",
   "execution_count": 110,
   "metadata": {
    "scrolled": true
   },
   "outputs": [
    {
     "name": "stderr",
     "output_type": "stream",
     "text": [
      "....................................................................................................\n",
      "----------------------------------------------------------------------\n",
      "Ran 100 tests in 0.552s\n",
      "\n",
      "OK\n"
     ]
    }
   ],
   "source": [
    "# This will test your function \n",
    "test_mult(mult_all)"
   ]
  },
  {
   "cell_type": "code",
   "execution_count": 111,
   "metadata": {},
   "outputs": [
    {
     "data": {
      "text/plain": [
       "11544558816"
      ]
     },
     "execution_count": 111,
     "metadata": {},
     "output_type": "execute_result"
    }
   ],
   "source": [
    "mult_all(lst)"
   ]
  },
  {
   "cell_type": "markdown",
   "metadata": {},
   "source": [
    "## 5. Now combine those two ideas and write a function that receives a list and either \"+\" or \"*\" and outputs acordingly"
   ]
  },
  {
   "cell_type": "code",
   "execution_count": 112,
   "metadata": {},
   "outputs": [],
   "source": [
    "def oper_all(arr, oper = \"*\"):\n",
    "    if oper == \"+\":\n",
    "        return sum_all(arr)\n",
    "    else:\n",
    "        return mult_all(arr)"
   ]
  },
  {
   "cell_type": "code",
   "execution_count": 113,
   "metadata": {},
   "outputs": [],
   "source": [
    "def oper_all(arr, oper):\n",
    "    \n",
    "    if oper == \"+\":\n",
    "        return sum_all(arr)\n",
    "        \n",
    "    elif oper == \"*\":\n",
    "        return mult_all(arr)"
   ]
  },
  {
   "cell_type": "code",
   "execution_count": 114,
   "metadata": {},
   "outputs": [
    {
     "data": {
      "text/plain": [
       "11544558816"
      ]
     },
     "execution_count": 114,
     "metadata": {},
     "output_type": "execute_result"
    }
   ],
   "source": [
    "oper_all(lst,\"*\")"
   ]
  },
  {
   "cell_type": "code",
   "execution_count": 115,
   "metadata": {},
   "outputs": [
    {
     "name": "stderr",
     "output_type": "stream",
     "text": [
      "....................................................................................................\n",
      "----------------------------------------------------------------------\n",
      "Ran 100 tests in 0.423s\n",
      "\n",
      "OK\n"
     ]
    }
   ],
   "source": [
    "# This will test your function \n",
    "test_operations(oper_all)"
   ]
  },
  {
   "cell_type": "markdown",
   "metadata": {},
   "source": [
    "## 6. Write a function that returns the factorial of a number."
   ]
  },
  {
   "cell_type": "code",
   "execution_count": 116,
   "metadata": {},
   "outputs": [],
   "source": [
    "def factorial(n):\n",
    "    return 1 if (n==1 or n==0) else n * factorial(n - 1)"
   ]
  },
  {
   "cell_type": "code",
   "execution_count": 117,
   "metadata": {},
   "outputs": [],
   "source": [
    "#factorial formula\n",
    "#n! = n * ( n - 1 ) *...*1\n",
    "\n",
    "# This code defines a function called \"factorial\" which takes an input \"n\". The function uses a for loop to iterate through the range of numbers \n",
    "# from 1 to n+1. For each number in that range, it multiplies the current value of x by the number in the range. At the end of the loop, \n",
    "# the function returns the final value of x, which will be the factorial of the input number \"n\".\n",
    "\n",
    "# The Factorial of a positive integer n is the product of all positive integers less than or equal to n. \n",
    "# For example, the factorial of 6 (written \"6!\") is 6 * 5 * 4 * 3 * 2 * 1 = 720.\n",
    "\n",
    "# So this function takes an input of any positive integer, and returns the factorial of that number."
   ]
  },
  {
   "cell_type": "code",
   "execution_count": 5,
   "metadata": {},
   "outputs": [],
   "source": [
    "def factorial(n):\n",
    "    x = 1\n",
    "    for i in range(1,n+1):\n",
    "        x = x*i\n",
    "    return x"
   ]
  },
  {
   "cell_type": "code",
   "execution_count": 176,
   "metadata": {},
   "outputs": [],
   "source": [
    "def factorial(n):\n",
    "    \"\"\"\n",
    "    Function that performs factorial\n",
    "    Takes an integer\n",
    "    Returns the factorial of that integer\n",
    "    \"\"\"\n",
    "    product = 1\n",
    "    for i in range(n):\n",
    "        product *= (i+1)\n",
    "    return product"
   ]
  },
  {
   "cell_type": "code",
   "execution_count": 119,
   "metadata": {},
   "outputs": [
    {
     "data": {
      "text/plain": [
       "1"
      ]
     },
     "execution_count": 119,
     "metadata": {},
     "output_type": "execute_result"
    }
   ],
   "source": [
    "factorial(-90)"
   ]
  },
  {
   "cell_type": "code",
   "execution_count": 6,
   "metadata": {},
   "outputs": [
    {
     "name": "stderr",
     "output_type": "stream",
     "text": [
      "....................................................................................................\n",
      "----------------------------------------------------------------------\n",
      "Ran 100 tests in 0.255s\n",
      "\n",
      "OK\n"
     ]
    }
   ],
   "source": [
    "# This will test your function \n",
    "test_factorial(factorial)"
   ]
  },
  {
   "cell_type": "markdown",
   "metadata": {},
   "source": [
    "## 7. Write a function that takes a list and returns a list of the unique values.\n",
    "\n",
    "`NOTE: You cannot use set. 🤔`"
   ]
  },
  {
   "cell_type": "code",
   "execution_count": 74,
   "metadata": {},
   "outputs": [],
   "source": [
    "def unique(lst_un):\n",
    "    unique_list = []\n",
    "    for i in lst_un:\n",
    "        if i not in unique_list:\n",
    "            unique_list +=[i]\n",
    "    return unique_list"
   ]
  },
  {
   "cell_type": "code",
   "execution_count": 122,
   "metadata": {},
   "outputs": [
    {
     "data": {
      "text/plain": [
       "[2, 6, 7, 8, 43, 67, 89]"
      ]
     },
     "execution_count": 122,
     "metadata": {},
     "output_type": "execute_result"
    }
   ],
   "source": [
    "unique(lst)"
   ]
  },
  {
   "cell_type": "code",
   "execution_count": 75,
   "metadata": {},
   "outputs": [
    {
     "name": "stderr",
     "output_type": "stream",
     "text": [
      "....................................................................................................\n",
      "----------------------------------------------------------------------\n",
      "Ran 100 tests in 0.809s\n",
      "\n",
      "OK\n"
     ]
    }
   ],
   "source": [
    "# This will test your function \n",
    "test_unique(unique)"
   ]
  },
  {
   "cell_type": "markdown",
   "metadata": {},
   "source": [
    "## 8. Write a function that returns the mode of a list, i.e.: the element that appears the most times.\n",
    "`NOTE: You should not use count... 🧐`"
   ]
  },
  {
   "cell_type": "code",
   "execution_count": 2,
   "metadata": {},
   "outputs": [],
   "source": [
    "def mode_counter(arr):\n",
    "    import operator\n",
    "    counter_of_i = {}\n",
    "    \n",
    "    for i in arr:\n",
    "        if i not in counter_of_i:\n",
    "            counter_of_i[i] = 1\n",
    "        else: # i in list\n",
    "            counter_of_i[i] += 1\n",
    "    \n",
    "    sorted_mydict = dict(sorted(counter_of_i.items(), key=operator.itemgetter(1), reverse = True))\n",
    "    \n",
    "    for key, value in counter_of_i.items():\n",
    "        if value == list(sorted_mydict.values())[0]:\n",
    "            return key"
   ]
  },
  {
   "cell_type": "code",
   "execution_count": null,
   "metadata": {},
   "outputs": [],
   "source": [
    "any_list=(1,4,4,4,4,3,3,3,3,3,3,3,3,33,3,33,423,24,24,2424,555,55,555)\n",
    "def mode_counter(arr):\n",
    "    #I create a dictionary to store the the values as a key, and add the total amount as the value. And then I find the max within the values.\n",
    "    mode_dictionary = {}\n",
    "    for i in arr:\n",
    "        mode_dictionary[i] = 0\n",
    "    for i in arr:\n",
    "        mode_dictionary[i]+=1\n",
    "    repeated = [*mode_dictionary.values()]\n",
    "    for key, value in mode_dictionary.items():\n",
    "        if value == greatest(repeated):\n",
    "            mode = key\n",
    "    return mode\n",
    "\n",
    "mode_counter(any_list)"
   ]
  },
  {
   "cell_type": "code",
   "execution_count": 125,
   "metadata": {},
   "outputs": [],
   "source": [
    "## manera de hacerlo con librerías\n",
    "def mode_counter(arr) :\n",
    "    m = max([arr.count(a) for a in arr])\n",
    "    return [x for x in arr if arr.count(x) == m][0] if m>1 else None"
   ]
  },
  {
   "cell_type": "code",
   "execution_count": 3,
   "metadata": {},
   "outputs": [
    {
     "name": "stderr",
     "output_type": "stream",
     "text": [
      "....................................................................................................\n",
      "----------------------------------------------------------------------\n",
      "Ran 100 tests in 0.416s\n",
      "\n",
      "OK\n"
     ]
    }
   ],
   "source": [
    "# This will test your function \n",
    "test_mode(mode_counter)"
   ]
  },
  {
   "cell_type": "markdown",
   "metadata": {},
   "source": [
    "## 9. Write a function that calculates the standard deviation of a list.\n",
    "`NOTE: Do not use any libraries or already built functions. 😉`"
   ]
  },
  {
   "cell_type": "code",
   "execution_count": 127,
   "metadata": {},
   "outputs": [],
   "source": [
    "from statistics import stdev\n",
    "def st_dev(list_sd):\n",
    "    mean = sum(list_sd) / len(list_sd)\n",
    "    variance = sum([((i - mean) ** 2) for i in list_sd]) / len(list_sd)\n",
    "    res = variance ** 0.5\n",
    "    return res"
   ]
  },
  {
   "cell_type": "code",
   "execution_count": 128,
   "metadata": {},
   "outputs": [],
   "source": [
    "def st_dev(arr):\n",
    "        mean = (sum(arr) / len(arr))\n",
    "        variance = (sum([((x - mean) ** 2) for x in arr]) / len(arr))\n",
    "        res = (variance ** 0.5)\n",
    "        return res"
   ]
  },
  {
   "cell_type": "code",
   "execution_count": 177,
   "metadata": {},
   "outputs": [],
   "source": [
    "from statistics import stdev\n",
    "def st_dev(arr):\n",
    "    \n",
    "    total_elements = 0\n",
    "    total_sum_elements = 0\n",
    "    \n",
    "    for num in arr:\n",
    "        total_elements +=1\n",
    "        total_sum_elements += num\n",
    "    \n",
    "    mean = total_sum_elements/total_elements\n",
    "    \n",
    "    deviation = 0\n",
    "    \n",
    "    for num in arr:\n",
    "        deviation += (num-mean)**2\n",
    "    \n",
    "    standard_deviation = (deviation/(total_elements-1))**0.5\n",
    "    \n",
    "    return standard_deviation"
   ]
  },
  {
   "cell_type": "code",
   "execution_count": 181,
   "metadata": {},
   "outputs": [],
   "source": [
    "def st_dev(list_sd):\n",
    "    return stdev(list_sd)"
   ]
  },
  {
   "cell_type": "code",
   "execution_count": 182,
   "metadata": {},
   "outputs": [
    {
     "name": "stderr",
     "output_type": "stream",
     "text": [
      "....................................................................................................\n",
      "----------------------------------------------------------------------\n",
      "Ran 100 tests in 0.943s\n",
      "\n",
      "OK\n"
     ]
    }
   ],
   "source": [
    "# This will test your function \n",
    "test_stdev(st_dev)"
   ]
  },
  {
   "cell_type": "markdown",
   "metadata": {},
   "source": [
    "## 10. Write a function to check if a string is a pangram, i.e.: if it contains all the letters of the alphabet at least once. Mind that the strings may contain characters that are not letters."
   ]
  },
  {
   "cell_type": "code",
   "execution_count": 132,
   "metadata": {},
   "outputs": [],
   "source": [
    "def pangram(string):\n",
    "    alphabet = \"abcdefghijklmnopqrstuvwxyz\"\n",
    "    for char in alphabet:\n",
    "        if char not in string.lower():\n",
    "            print(string.lower())\n",
    "            return False\n",
    "    return True   "
   ]
  },
  {
   "cell_type": "code",
   "execution_count": 43,
   "metadata": {},
   "outputs": [],
   "source": []
  },
  {
   "cell_type": "code",
   "execution_count": 44,
   "metadata": {},
   "outputs": [
    {
     "data": {
      "text/plain": [
       "'It works, not sure if I should be using the import string'"
      ]
     },
     "execution_count": 44,
     "metadata": {},
     "output_type": "execute_result"
    }
   ],
   "source": [
    "import string\n",
    "alph = set(string.ascii_lowercase)\n",
    "\n",
    "def pangram(string):\n",
    "    \n",
    "    return set(string.lower()) >= alph\n",
    "\"\"\"It works, not sure if I should be using the import string\"\"\""
   ]
  },
  {
   "cell_type": "code",
   "execution_count": 45,
   "metadata": {},
   "outputs": [],
   "source": [
    "# David\n",
    "\n",
    "alph = 'abcdefghijklmnopqrstuvwxyz'\n",
    "import string\n",
    "\n",
    "def pangram(string):\n",
    "    for i in alph:\n",
    "        if i not in string.lower():\n",
    "            return False\n",
    "    return True"
   ]
  },
  {
   "cell_type": "code",
   "execution_count": 62,
   "metadata": {},
   "outputs": [],
   "source": [
    "def pangram(string):\n",
    "    alpha=\"abcdefghijklmnopqrstuvwxyz\"\n",
    "    for i in alpha:\n",
    "        if i not in string.lower():\n",
    "            return False\n",
    "    return True"
   ]
  },
  {
   "cell_type": "code",
   "execution_count": 47,
   "metadata": {},
   "outputs": [
    {
     "data": {
      "text/plain": [
       "False"
      ]
     },
     "execution_count": 47,
     "metadata": {},
     "output_type": "execute_result"
    }
   ],
   "source": [
    "pangram(\"a\")"
   ]
  },
  {
   "cell_type": "code",
   "execution_count": 58,
   "metadata": {},
   "outputs": [],
   "source": [
    "import re\n",
    "def pangram(string):\n",
    "    for alph1 in string:\n",
    "        if not re.search(\"[a-z]\", string).search(\"[A-Z]\", string):\n",
    "            return False\n",
    "    return True"
   ]
  },
  {
   "cell_type": "code",
   "execution_count": 64,
   "metadata": {},
   "outputs": [
    {
     "data": {
      "text/plain": [
       "True"
      ]
     },
     "execution_count": 64,
     "metadata": {},
     "output_type": "execute_result"
    }
   ],
   "source": [
    "pangram(\"abcdefghijklmnopqrstuvwxyz\")"
   ]
  },
  {
   "cell_type": "code",
   "execution_count": 63,
   "metadata": {},
   "outputs": [
    {
     "name": "stderr",
     "output_type": "stream",
     "text": [
      "..............................\n",
      "----------------------------------------------------------------------\n",
      "Ran 30 tests in 0.210s\n",
      "\n",
      "OK\n"
     ]
    }
   ],
   "source": [
    "# This will test your function \n",
    "test_pangram(pangram)"
   ]
  },
  {
   "cell_type": "markdown",
   "metadata": {},
   "source": [
    "## 11. Write a function that receives a string of comma separated words and returns a string of comma separated words sorted alphabetically.\n",
    "\n",
    "`NOTE: You may use sorted but not split and definitely no join! 🤪`"
   ]
  },
  {
   "cell_type": "code",
   "execution_count": null,
   "metadata": {},
   "outputs": [],
   "source": [
    "def sort_alpha(string):\n",
    "    string+=\",\"\n",
    "    newlist=[]\n",
    "    word=\"\"\n",
    "    newword=\"\"\n",
    "    for letter in string.lower():\n",
    "        if letter ==\",\":\n",
    "            \n",
    "            newlist.append(word)\n",
    "            word=\"\"\n",
    "        else:\n",
    "            word+=letter\n",
    "            \n",
    "    newlist.sort()\n",
    "    \n",
    "    for elem in newlist:\n",
    "        newword+=\",\"+elem\n",
    "    \n",
    "    newword2=newword[1:]\n",
    "    return newword2"
   ]
  },
  {
   "cell_type": "code",
   "execution_count": null,
   "metadata": {},
   "outputs": [
    {
     "data": {
      "text/plain": [
       "[' ',\n",
       " ' ',\n",
       " ',',\n",
       " ',',\n",
       " 'a',\n",
       " 'a',\n",
       " 'c',\n",
       " 'e',\n",
       " 'l',\n",
       " 'l',\n",
       " 'l',\n",
       " 'o',\n",
       " 'r',\n",
       " 't',\n",
       " 'u',\n",
       " 'y']"
      ]
     },
     "execution_count": 184,
     "metadata": {},
     "output_type": "execute_result"
    }
   ],
   "source": [
    "a_string = \"call, you, later\"\n",
    "sorted_characters = sorted(a_string)\n",
    "sorted_characters"
   ]
  },
  {
   "cell_type": "code",
   "execution_count": null,
   "metadata": {},
   "outputs": [
    {
     "data": {
      "text/plain": [
       "' later, you,call'"
      ]
     },
     "execution_count": 185,
     "metadata": {},
     "output_type": "execute_result"
    }
   ],
   "source": [
    "sort_alpha(a_string)"
   ]
  },
  {
   "cell_type": "code",
   "execution_count": null,
   "metadata": {},
   "outputs": [
    {
     "name": "stderr",
     "output_type": "stream",
     "text": [
      "....................................................................................................\n",
      "----------------------------------------------------------------------\n",
      "Ran 100 tests in 0.246s\n",
      "\n",
      "OK\n"
     ]
    }
   ],
   "source": [
    "# This will test your function \n",
    "test_alpha(sort_alpha)"
   ]
  },
  {
   "cell_type": "markdown",
   "metadata": {},
   "source": [
    "## 12. Write a function to check if a given password is strong (at least 8 characters, at least one lower case, at least one upper case, at least one number and at least one special character). It should output True if strong and False if not."
   ]
  },
  {
   "cell_type": "code",
   "execution_count": null,
   "metadata": {},
   "outputs": [
    {
     "ename": "IndentationError",
     "evalue": "expected an indented block (1477605767.py, line 21)",
     "output_type": "error",
     "traceback": [
      "\u001b[0;36m  Cell \u001b[0;32mIn [138], line 21\u001b[0;36m\u001b[0m\n\u001b[0;31m    return True\u001b[0m\n\u001b[0m    ^\u001b[0m\n\u001b[0;31mIndentationError\u001b[0m\u001b[0;31m:\u001b[0m expected an indented block\n"
     ]
    }
   ],
   "source": [
    "def check_pass(password):\n",
    "    special = [\"#\", \"@\", \"!\", \"$\", \"%\", \"&\", \"(\", \")\", \"^\", \"*\", \"[\", \"]\", \"{\", \"}\"] # at least one special char\n",
    "    # at least 8 characters\n",
    "    if len(password) <= 8:\n",
    "        return False\n",
    "    # at least one lower case\n",
    "    elif password.isupper() == True:\n",
    "        return False   \n",
    "    # at least one upper case\n",
    "    elif password.islower() == True:\n",
    "        return False \n",
    "    # at least one number\n",
    "    elif password.isalpha() == True:\n",
    "        return False \n",
    "    # at least one special character\n",
    "    elif password.isalnum() == True:\n",
    "        return False\n",
    "    for i in password:\n",
    "        if i in special:\n",
    "            \n",
    "    return True"
   ]
  },
  {
   "cell_type": "code",
   "execution_count": 73,
   "metadata": {},
   "outputs": [],
   "source": [
    "# Dan\n",
    "\n",
    "string = \"Mypassword1*\"\n",
    "\n",
    "def check_pass(string):\n",
    "    \n",
    "    for i in string:\n",
    "        upper_case = False\n",
    "        if i.isupper():\n",
    "            upper_case = True\n",
    "            pass\n",
    "        for i in string:\n",
    "            lower_case = False\n",
    "            if i.lower():\n",
    "                lower_case = True\n",
    "                pass\n",
    "            for i in string:\n",
    "                numero = False\n",
    "                if i.isnumeric():\n",
    "                    numero = True\n",
    "                    pass\n",
    "                for i in string:\n",
    "                    has_special = False\n",
    "                    special_characters = \"# @ ! $ % & ( ) ^ * [ ] { }\"\n",
    "                    if i in special_characters:\n",
    "                        has_special = True\n",
    "                        pass\n",
    "                    for i in string:\n",
    "                        length = False\n",
    "                        count = 0\n",
    "                        count += 1\n",
    "                        if count > 8:\n",
    "                            length = True\n",
    "    return upper_case and lower_case and numero and has_special and length\n",
    "   \n",
    "    \n",
    "       # print(\"lower than 8 char\")\n",
    "    #for digit in string_list:\n",
    "        "
   ]
  },
  {
   "cell_type": "code",
   "execution_count": null,
   "metadata": {},
   "outputs": [],
   "source": [
    "#Archie\n",
    "\n",
    "def check_password(password):\n",
    "    \n",
    "    n = len(password)\n",
    "    hasLower = False\n",
    "    hasUpper = False             #defining all the functions and setting default to 'False'\n",
    "    hasDigit = False\n",
    "    specialChar = False\n",
    "    normalChars = \"abcdefghijklmnopqrstu\"         # Checking lower case alphabet in string\n",
    "    \"vwxyzABCDEFGHIJKLMNOPQRSTUVWXYZ1234567890 \"\n",
    "    \n",
    "    for i in range(n):\n",
    "        if password[i].islower():\n",
    "            hasLower = True\n",
    "        if password[i].isupper():  #for loop to check if password has any of the parameters that would make it strong\n",
    "            hasUpper = True\n",
    "        if password[i].isdigit():\n",
    "            hasDigit = True\n",
    "        if password[i] not in normalChars:\n",
    "            specialChar = True\n",
    "            \n",
    "    print(\"Strength of password: \", end = '')\n",
    "    if (hasLower and hasUpper and\n",
    "        hasDigit and specialChar and n >= 8):\n",
    "        print(\"Strong\")\n",
    "    elif ((hasLower or hasUpper) and           #parameters for printing the strength of the password\n",
    "          specialChar and n >= 6):\n",
    "        print(\"Moderate\")\n",
    "    else:\n",
    "        print(\"Weak\")\n",
    "        \n",
    "if __name__==\"__main__\":\n",
    "     \n",
    "    password = \"ArchieHulse24!\"       #driver code to return final result\n",
    "     \n",
    "    check_password (password)         #! PAY CLOSE ATTENTION TO INDENTATION !#"
   ]
  },
  {
   "cell_type": "code",
   "execution_count": null,
   "metadata": {},
   "outputs": [],
   "source": [
    "# David\n",
    "\n",
    "special_list = [\"#\", \"@\", \"!\", \"$\", \"%\", \"&\", \"(\", \")\", \"^\", \"*\", \"[\", \"]\", \"{\", \"}\"]\n",
    "\n",
    "def check_pass(string):\n",
    "    lower_case = 0\n",
    "    upper_case = 0\n",
    "    number_count = 0\n",
    "    special_count = 0 \n",
    "    for i in string:\n",
    "        if i.islower():\n",
    "            lower_case = 1\n",
    "        if i.isupper():\n",
    "            upper_case = 1\n",
    "        if i.isnumber():\n",
    "            number_count = 1\n",
    "        if i in special_list:\n",
    "           special_count = 1\n",
    "    \n",
    "    result = lower_case + upper_case + number_count + special_count\n",
    "    if result == 4:\n",
    "        return True\n",
    "    else:\n",
    "        return False\n",
    "\n",
    "        "
   ]
  },
  {
   "cell_type": "code",
   "execution_count": 65,
   "metadata": {},
   "outputs": [],
   "source": [
    "def check_pass(string):\n",
    "    special_character = \"# @ ! $ % & ( ) ^ * [ ] { }\"\n",
    "    check_upper = False\n",
    "    check_lower = False\n",
    "    check_length = False\n",
    "    check_character = False\n",
    "    check_number = False\n",
    "    for i in string:\n",
    "        if i in special_character:\n",
    "            check_character = True\n",
    "        if len(string) >= 8:\n",
    "            check_length = True\n",
    "        if i.isupper():\n",
    "            check_upper = True\n",
    "        if i.islower():\n",
    "            check_lower = True\n",
    "        if i.isnumeric():\n",
    "            check_number = True\n",
    "        if check_upper != False and check_lower != False and check_length != False and check_character != False and check_number != False:\n",
    "            return True  \n",
    "    return False\n",
    "    pass"
   ]
  },
  {
   "cell_type": "code",
   "execution_count": null,
   "metadata": {},
   "outputs": [
    {
     "data": {
      "text/plain": [
       "False"
      ]
     },
     "execution_count": 89,
     "metadata": {},
     "output_type": "execute_result"
    }
   ],
   "source": [
    "password = \"jolHgyf6587_kjndfgewgwef&y\"\n",
    "password.isalpha()"
   ]
  },
  {
   "cell_type": "code",
   "execution_count": null,
   "metadata": {},
   "outputs": [
    {
     "data": {
      "text/plain": [
       "False"
      ]
     },
     "execution_count": 90,
     "metadata": {},
     "output_type": "execute_result"
    }
   ],
   "source": [
    "password.isalnum()"
   ]
  },
  {
   "cell_type": "code",
   "execution_count": null,
   "metadata": {},
   "outputs": [
    {
     "data": {
      "text/plain": [
       "False"
      ]
     },
     "execution_count": 91,
     "metadata": {},
     "output_type": "execute_result"
    }
   ],
   "source": [
    "password.isupper()"
   ]
  },
  {
   "cell_type": "code",
   "execution_count": null,
   "metadata": {},
   "outputs": [
    {
     "data": {
      "text/plain": [
       "True"
      ]
     },
     "execution_count": 92,
     "metadata": {},
     "output_type": "execute_result"
    }
   ],
   "source": [
    "check_pass(password)"
   ]
  },
  {
   "cell_type": "code",
   "execution_count": 71,
   "metadata": {},
   "outputs": [],
   "source": [
    "def check_pass(string):\n",
    "    \n",
    "    points_length = 0\n",
    "    points_lower = 0\n",
    "    points_upper = 0\n",
    "    points_digit = 0\n",
    "    points_special = 0\n",
    "    \n",
    "    counter_length = 0\n",
    "    for i in string: # at least 8 charac\n",
    "        if i in string:\n",
    "            counter_length += 1        \n",
    "    if counter_length >= 8:\n",
    "        points_length = 1\n",
    "    \n",
    "    for i in string: # at least one lower case\n",
    "        if i.islower():\n",
    "            points_lower = 1\n",
    "    \n",
    "    for i in string: # at least one upper\n",
    "        if i.isupper():\n",
    "            points_upper = 1\n",
    "    \n",
    "    for i in string: # at least one number\n",
    "        if i.isdigit():\n",
    "            points_digit = 1\n",
    "            \n",
    "    points_special = 0\n",
    "    special = [\"#\", \"@\", \"!\", \"$\", \"%\", \"&\", \"(\", \")\", \"^\", \"*\", \"[\", \"]\", \"{\", \"}\"] # at least one special char\n",
    "    for i in string:\n",
    "        if i in special:\n",
    "            points_special = 1\n",
    "    \n",
    "    total_points = points_length + points_lower + points_upper + points_digit + points_special\n",
    "    \n",
    "    if total_points < 5:\n",
    "        return False\n",
    "    \n",
    "    else:\n",
    "        return True"
   ]
  },
  {
   "cell_type": "code",
   "execution_count": 69,
   "metadata": {},
   "outputs": [],
   "source": [
    "def check_pass(string):\n",
    "    special=\"# @!$%&()^*[]{}\"\n",
    "    for i in string:\n",
    "        if len(string)<8:\n",
    "            return False\n",
    "        elif (i.islower()):\n",
    "            return \"False\"\n",
    "        elif (i.isupper()):\n",
    "            return False\n",
    "        elif (i.isdigit()):\n",
    "            return False\n",
    "        elif (i in special):\n",
    "            return False\n",
    "    \n",
    "    return True\n"
   ]
  },
  {
   "cell_type": "code",
   "execution_count": null,
   "metadata": {},
   "outputs": [
    {
     "data": {
      "text/plain": [
       "False"
      ]
     },
     "execution_count": 172,
     "metadata": {},
     "output_type": "execute_result"
    }
   ],
   "source": [
    "password = \"#blkjnbl90knbljD\"\n",
    "check_pass(password)"
   ]
  },
  {
   "cell_type": "code",
   "execution_count": 89,
   "metadata": {},
   "outputs": [],
   "source": [
    "def check_pass(string):\n",
    "    length = False\n",
    "    lower_char = False\n",
    "    upper_char = False\n",
    "    number = False\n",
    "    special_character = False\n",
    "    special_character_list = [\"@\",\"!\", \"$\", \"%\", \"&\", \"(\", \")\", \"^\", \"*\", \"[\", \"]\", \"{\", \"}\"]\n",
    "\n",
    "    if len(string) >= 8:\n",
    "        length = True\n",
    "\n",
    "    for char in range(len(string)):\n",
    "        if char.islower():\n",
    "            lower_char = True\n",
    "        elif string[char].isupper():\n",
    "            upper_char = True\n",
    "        elif string[char].isdigit():\n",
    "            number = True\n",
    "        elif string[char] in special_character_list:\n",
    "            special_character = True\n",
    "    \n",
    "    if length and lower_char and upper_char and number and special_character:\n",
    "        return True\n",
    "    \n",
    "    return False"
   ]
  },
  {
   "cell_type": "code",
   "execution_count": 87,
   "metadata": {},
   "outputs": [],
   "source": [
    "def check_pass(string):\n",
    "    special=\"# @!$%&()^*[]{}\"\n",
    "    if len(string)<8:\n",
    "            return False\n",
    "\n",
    "    for i in string:\n",
    "        if i.islower():\n",
    "            return False\n",
    "        elif i.isupper():\n",
    "            return False\n",
    "        elif i.isdigit():\n",
    "            return False\n",
    "        elif i in special:\n",
    "            return False\n",
    "        else:\n",
    "            return True"
   ]
  },
  {
   "cell_type": "code",
   "execution_count": 90,
   "metadata": {},
   "outputs": [
    {
     "name": "stderr",
     "output_type": "stream",
     "text": [
      "EEEEEEEEEEEEEEEEEEEEEEEEEEEEEEEEEEEEEEEEEEEEEEEEEEEEEEEEEEEEEEEEEEEEEEEEEEEEEEEEEEEEEEEEEEEEEEEEEEEE\n",
      "======================================================================\n",
      "ERROR: runTest (mod.testing.test_pass.<locals>.TestKnown)\n",
      "----------------------------------------------------------------------\n",
      "Traceback (most recent call last):\n",
      "  File \"/Users/narea/Desktop/ironhack/labs/lab-functions/mod/testing.py\", line 202, in runTest\n",
      "    self.assertEqual(fn(self.input), self.output, f\"Should be {self.output}\")\n",
      "  File \"/var/folders/dj/6p4w_3415gd7vr_k5c0wjgjc0000gn/T/ipykernel_87514/2327119212.py\", line 13, in check_pass\n",
      "    if char.islower():\n",
      "AttributeError: 'int' object has no attribute 'islower'\n",
      "\n",
      "======================================================================\n",
      "ERROR: runTest (mod.testing.test_pass.<locals>.TestKnown)\n",
      "----------------------------------------------------------------------\n",
      "Traceback (most recent call last):\n",
      "  File \"/Users/narea/Desktop/ironhack/labs/lab-functions/mod/testing.py\", line 202, in runTest\n",
      "    self.assertEqual(fn(self.input), self.output, f\"Should be {self.output}\")\n",
      "  File \"/var/folders/dj/6p4w_3415gd7vr_k5c0wjgjc0000gn/T/ipykernel_87514/2327119212.py\", line 13, in check_pass\n",
      "    if char.islower():\n",
      "AttributeError: 'int' object has no attribute 'islower'\n",
      "\n",
      "======================================================================\n",
      "ERROR: runTest (mod.testing.test_pass.<locals>.TestKnown)\n",
      "----------------------------------------------------------------------\n",
      "Traceback (most recent call last):\n",
      "  File \"/Users/narea/Desktop/ironhack/labs/lab-functions/mod/testing.py\", line 202, in runTest\n",
      "    self.assertEqual(fn(self.input), self.output, f\"Should be {self.output}\")\n",
      "  File \"/var/folders/dj/6p4w_3415gd7vr_k5c0wjgjc0000gn/T/ipykernel_87514/2327119212.py\", line 13, in check_pass\n",
      "    if char.islower():\n",
      "AttributeError: 'int' object has no attribute 'islower'\n",
      "\n",
      "======================================================================\n",
      "ERROR: runTest (mod.testing.test_pass.<locals>.TestKnown)\n",
      "----------------------------------------------------------------------\n",
      "Traceback (most recent call last):\n",
      "  File \"/Users/narea/Desktop/ironhack/labs/lab-functions/mod/testing.py\", line 202, in runTest\n",
      "    self.assertEqual(fn(self.input), self.output, f\"Should be {self.output}\")\n",
      "  File \"/var/folders/dj/6p4w_3415gd7vr_k5c0wjgjc0000gn/T/ipykernel_87514/2327119212.py\", line 13, in check_pass\n",
      "    if char.islower():\n",
      "AttributeError: 'int' object has no attribute 'islower'\n",
      "\n",
      "======================================================================\n",
      "ERROR: runTest (mod.testing.test_pass.<locals>.TestKnown)\n",
      "----------------------------------------------------------------------\n",
      "Traceback (most recent call last):\n",
      "  File \"/Users/narea/Desktop/ironhack/labs/lab-functions/mod/testing.py\", line 202, in runTest\n",
      "    self.assertEqual(fn(self.input), self.output, f\"Should be {self.output}\")\n",
      "  File \"/var/folders/dj/6p4w_3415gd7vr_k5c0wjgjc0000gn/T/ipykernel_87514/2327119212.py\", line 13, in check_pass\n",
      "    if char.islower():\n",
      "AttributeError: 'int' object has no attribute 'islower'\n",
      "\n",
      "======================================================================\n",
      "ERROR: runTest (mod.testing.test_pass.<locals>.TestKnown)\n",
      "----------------------------------------------------------------------\n",
      "Traceback (most recent call last):\n",
      "  File \"/Users/narea/Desktop/ironhack/labs/lab-functions/mod/testing.py\", line 202, in runTest\n",
      "    self.assertEqual(fn(self.input), self.output, f\"Should be {self.output}\")\n",
      "  File \"/var/folders/dj/6p4w_3415gd7vr_k5c0wjgjc0000gn/T/ipykernel_87514/2327119212.py\", line 13, in check_pass\n",
      "    if char.islower():\n",
      "AttributeError: 'int' object has no attribute 'islower'\n",
      "\n",
      "======================================================================\n",
      "ERROR: runTest (mod.testing.test_pass.<locals>.TestKnown)\n",
      "----------------------------------------------------------------------\n",
      "Traceback (most recent call last):\n",
      "  File \"/Users/narea/Desktop/ironhack/labs/lab-functions/mod/testing.py\", line 202, in runTest\n",
      "    self.assertEqual(fn(self.input), self.output, f\"Should be {self.output}\")\n",
      "  File \"/var/folders/dj/6p4w_3415gd7vr_k5c0wjgjc0000gn/T/ipykernel_87514/2327119212.py\", line 13, in check_pass\n",
      "    if char.islower():\n",
      "AttributeError: 'int' object has no attribute 'islower'\n",
      "\n",
      "======================================================================\n",
      "ERROR: runTest (mod.testing.test_pass.<locals>.TestKnown)\n",
      "----------------------------------------------------------------------\n",
      "Traceback (most recent call last):\n",
      "  File \"/Users/narea/Desktop/ironhack/labs/lab-functions/mod/testing.py\", line 202, in runTest\n",
      "    self.assertEqual(fn(self.input), self.output, f\"Should be {self.output}\")\n",
      "  File \"/var/folders/dj/6p4w_3415gd7vr_k5c0wjgjc0000gn/T/ipykernel_87514/2327119212.py\", line 13, in check_pass\n",
      "    if char.islower():\n",
      "AttributeError: 'int' object has no attribute 'islower'\n",
      "\n",
      "======================================================================\n",
      "ERROR: runTest (mod.testing.test_pass.<locals>.TestKnown)\n",
      "----------------------------------------------------------------------\n",
      "Traceback (most recent call last):\n",
      "  File \"/Users/narea/Desktop/ironhack/labs/lab-functions/mod/testing.py\", line 202, in runTest\n",
      "    self.assertEqual(fn(self.input), self.output, f\"Should be {self.output}\")\n",
      "  File \"/var/folders/dj/6p4w_3415gd7vr_k5c0wjgjc0000gn/T/ipykernel_87514/2327119212.py\", line 13, in check_pass\n",
      "    if char.islower():\n",
      "AttributeError: 'int' object has no attribute 'islower'\n",
      "\n",
      "======================================================================\n",
      "ERROR: runTest (mod.testing.test_pass.<locals>.TestKnown)\n",
      "----------------------------------------------------------------------\n",
      "Traceback (most recent call last):\n",
      "  File \"/Users/narea/Desktop/ironhack/labs/lab-functions/mod/testing.py\", line 202, in runTest\n",
      "    self.assertEqual(fn(self.input), self.output, f\"Should be {self.output}\")\n",
      "  File \"/var/folders/dj/6p4w_3415gd7vr_k5c0wjgjc0000gn/T/ipykernel_87514/2327119212.py\", line 13, in check_pass\n",
      "    if char.islower():\n",
      "AttributeError: 'int' object has no attribute 'islower'\n",
      "\n",
      "======================================================================\n",
      "ERROR: runTest (mod.testing.test_pass.<locals>.TestKnown)\n",
      "----------------------------------------------------------------------\n",
      "Traceback (most recent call last):\n",
      "  File \"/Users/narea/Desktop/ironhack/labs/lab-functions/mod/testing.py\", line 202, in runTest\n",
      "    self.assertEqual(fn(self.input), self.output, f\"Should be {self.output}\")\n",
      "  File \"/var/folders/dj/6p4w_3415gd7vr_k5c0wjgjc0000gn/T/ipykernel_87514/2327119212.py\", line 13, in check_pass\n",
      "    if char.islower():\n",
      "AttributeError: 'int' object has no attribute 'islower'\n",
      "\n",
      "======================================================================\n",
      "ERROR: runTest (mod.testing.test_pass.<locals>.TestKnown)\n",
      "----------------------------------------------------------------------\n",
      "Traceback (most recent call last):\n",
      "  File \"/Users/narea/Desktop/ironhack/labs/lab-functions/mod/testing.py\", line 202, in runTest\n",
      "    self.assertEqual(fn(self.input), self.output, f\"Should be {self.output}\")\n",
      "  File \"/var/folders/dj/6p4w_3415gd7vr_k5c0wjgjc0000gn/T/ipykernel_87514/2327119212.py\", line 13, in check_pass\n",
      "    if char.islower():\n",
      "AttributeError: 'int' object has no attribute 'islower'\n",
      "\n",
      "======================================================================\n",
      "ERROR: runTest (mod.testing.test_pass.<locals>.TestKnown)\n",
      "----------------------------------------------------------------------\n",
      "Traceback (most recent call last):\n",
      "  File \"/Users/narea/Desktop/ironhack/labs/lab-functions/mod/testing.py\", line 202, in runTest\n",
      "    self.assertEqual(fn(self.input), self.output, f\"Should be {self.output}\")\n",
      "  File \"/var/folders/dj/6p4w_3415gd7vr_k5c0wjgjc0000gn/T/ipykernel_87514/2327119212.py\", line 13, in check_pass\n",
      "    if char.islower():\n",
      "AttributeError: 'int' object has no attribute 'islower'\n",
      "\n",
      "======================================================================\n",
      "ERROR: runTest (mod.testing.test_pass.<locals>.TestKnown)\n",
      "----------------------------------------------------------------------\n",
      "Traceback (most recent call last):\n",
      "  File \"/Users/narea/Desktop/ironhack/labs/lab-functions/mod/testing.py\", line 202, in runTest\n",
      "    self.assertEqual(fn(self.input), self.output, f\"Should be {self.output}\")\n",
      "  File \"/var/folders/dj/6p4w_3415gd7vr_k5c0wjgjc0000gn/T/ipykernel_87514/2327119212.py\", line 13, in check_pass\n",
      "    if char.islower():\n",
      "AttributeError: 'int' object has no attribute 'islower'\n",
      "\n",
      "======================================================================\n",
      "ERROR: runTest (mod.testing.test_pass.<locals>.TestKnown)\n",
      "----------------------------------------------------------------------\n",
      "Traceback (most recent call last):\n",
      "  File \"/Users/narea/Desktop/ironhack/labs/lab-functions/mod/testing.py\", line 202, in runTest\n",
      "    self.assertEqual(fn(self.input), self.output, f\"Should be {self.output}\")\n",
      "  File \"/var/folders/dj/6p4w_3415gd7vr_k5c0wjgjc0000gn/T/ipykernel_87514/2327119212.py\", line 13, in check_pass\n",
      "    if char.islower():\n",
      "AttributeError: 'int' object has no attribute 'islower'\n",
      "\n",
      "======================================================================\n",
      "ERROR: runTest (mod.testing.test_pass.<locals>.TestKnown)\n",
      "----------------------------------------------------------------------\n",
      "Traceback (most recent call last):\n",
      "  File \"/Users/narea/Desktop/ironhack/labs/lab-functions/mod/testing.py\", line 202, in runTest\n",
      "    self.assertEqual(fn(self.input), self.output, f\"Should be {self.output}\")\n",
      "  File \"/var/folders/dj/6p4w_3415gd7vr_k5c0wjgjc0000gn/T/ipykernel_87514/2327119212.py\", line 13, in check_pass\n",
      "    if char.islower():\n",
      "AttributeError: 'int' object has no attribute 'islower'\n",
      "\n",
      "======================================================================\n",
      "ERROR: runTest (mod.testing.test_pass.<locals>.TestKnown)\n",
      "----------------------------------------------------------------------\n",
      "Traceback (most recent call last):\n",
      "  File \"/Users/narea/Desktop/ironhack/labs/lab-functions/mod/testing.py\", line 202, in runTest\n",
      "    self.assertEqual(fn(self.input), self.output, f\"Should be {self.output}\")\n",
      "  File \"/var/folders/dj/6p4w_3415gd7vr_k5c0wjgjc0000gn/T/ipykernel_87514/2327119212.py\", line 13, in check_pass\n",
      "    if char.islower():\n",
      "AttributeError: 'int' object has no attribute 'islower'\n",
      "\n",
      "======================================================================\n",
      "ERROR: runTest (mod.testing.test_pass.<locals>.TestKnown)\n",
      "----------------------------------------------------------------------\n",
      "Traceback (most recent call last):\n",
      "  File \"/Users/narea/Desktop/ironhack/labs/lab-functions/mod/testing.py\", line 202, in runTest\n",
      "    self.assertEqual(fn(self.input), self.output, f\"Should be {self.output}\")\n",
      "  File \"/var/folders/dj/6p4w_3415gd7vr_k5c0wjgjc0000gn/T/ipykernel_87514/2327119212.py\", line 13, in check_pass\n",
      "    if char.islower():\n",
      "AttributeError: 'int' object has no attribute 'islower'\n",
      "\n",
      "======================================================================\n",
      "ERROR: runTest (mod.testing.test_pass.<locals>.TestKnown)\n",
      "----------------------------------------------------------------------\n",
      "Traceback (most recent call last):\n",
      "  File \"/Users/narea/Desktop/ironhack/labs/lab-functions/mod/testing.py\", line 202, in runTest\n",
      "    self.assertEqual(fn(self.input), self.output, f\"Should be {self.output}\")\n",
      "  File \"/var/folders/dj/6p4w_3415gd7vr_k5c0wjgjc0000gn/T/ipykernel_87514/2327119212.py\", line 13, in check_pass\n",
      "    if char.islower():\n",
      "AttributeError: 'int' object has no attribute 'islower'\n",
      "\n",
      "======================================================================\n",
      "ERROR: runTest (mod.testing.test_pass.<locals>.TestKnown)\n",
      "----------------------------------------------------------------------\n",
      "Traceback (most recent call last):\n",
      "  File \"/Users/narea/Desktop/ironhack/labs/lab-functions/mod/testing.py\", line 202, in runTest\n",
      "    self.assertEqual(fn(self.input), self.output, f\"Should be {self.output}\")\n",
      "  File \"/var/folders/dj/6p4w_3415gd7vr_k5c0wjgjc0000gn/T/ipykernel_87514/2327119212.py\", line 13, in check_pass\n",
      "    if char.islower():\n",
      "AttributeError: 'int' object has no attribute 'islower'\n",
      "\n",
      "======================================================================\n",
      "ERROR: runTest (mod.testing.test_pass.<locals>.TestKnown)\n",
      "----------------------------------------------------------------------\n",
      "Traceback (most recent call last):\n",
      "  File \"/Users/narea/Desktop/ironhack/labs/lab-functions/mod/testing.py\", line 202, in runTest\n",
      "    self.assertEqual(fn(self.input), self.output, f\"Should be {self.output}\")\n",
      "  File \"/var/folders/dj/6p4w_3415gd7vr_k5c0wjgjc0000gn/T/ipykernel_87514/2327119212.py\", line 13, in check_pass\n",
      "    if char.islower():\n",
      "AttributeError: 'int' object has no attribute 'islower'\n",
      "\n",
      "======================================================================\n",
      "ERROR: runTest (mod.testing.test_pass.<locals>.TestKnown)\n",
      "----------------------------------------------------------------------\n",
      "Traceback (most recent call last):\n",
      "  File \"/Users/narea/Desktop/ironhack/labs/lab-functions/mod/testing.py\", line 202, in runTest\n",
      "    self.assertEqual(fn(self.input), self.output, f\"Should be {self.output}\")\n",
      "  File \"/var/folders/dj/6p4w_3415gd7vr_k5c0wjgjc0000gn/T/ipykernel_87514/2327119212.py\", line 13, in check_pass\n",
      "    if char.islower():\n",
      "AttributeError: 'int' object has no attribute 'islower'\n",
      "\n",
      "======================================================================\n",
      "ERROR: runTest (mod.testing.test_pass.<locals>.TestKnown)\n",
      "----------------------------------------------------------------------\n",
      "Traceback (most recent call last):\n",
      "  File \"/Users/narea/Desktop/ironhack/labs/lab-functions/mod/testing.py\", line 202, in runTest\n",
      "    self.assertEqual(fn(self.input), self.output, f\"Should be {self.output}\")\n",
      "  File \"/var/folders/dj/6p4w_3415gd7vr_k5c0wjgjc0000gn/T/ipykernel_87514/2327119212.py\", line 13, in check_pass\n",
      "    if char.islower():\n",
      "AttributeError: 'int' object has no attribute 'islower'\n",
      "\n",
      "======================================================================\n",
      "ERROR: runTest (mod.testing.test_pass.<locals>.TestKnown)\n",
      "----------------------------------------------------------------------\n",
      "Traceback (most recent call last):\n",
      "  File \"/Users/narea/Desktop/ironhack/labs/lab-functions/mod/testing.py\", line 202, in runTest\n",
      "    self.assertEqual(fn(self.input), self.output, f\"Should be {self.output}\")\n",
      "  File \"/var/folders/dj/6p4w_3415gd7vr_k5c0wjgjc0000gn/T/ipykernel_87514/2327119212.py\", line 13, in check_pass\n",
      "    if char.islower():\n",
      "AttributeError: 'int' object has no attribute 'islower'\n",
      "\n",
      "======================================================================\n",
      "ERROR: runTest (mod.testing.test_pass.<locals>.TestKnown)\n",
      "----------------------------------------------------------------------\n",
      "Traceback (most recent call last):\n",
      "  File \"/Users/narea/Desktop/ironhack/labs/lab-functions/mod/testing.py\", line 202, in runTest\n",
      "    self.assertEqual(fn(self.input), self.output, f\"Should be {self.output}\")\n",
      "  File \"/var/folders/dj/6p4w_3415gd7vr_k5c0wjgjc0000gn/T/ipykernel_87514/2327119212.py\", line 13, in check_pass\n",
      "    if char.islower():\n",
      "AttributeError: 'int' object has no attribute 'islower'\n",
      "\n",
      "======================================================================\n",
      "ERROR: runTest (mod.testing.test_pass.<locals>.TestKnown)\n",
      "----------------------------------------------------------------------\n",
      "Traceback (most recent call last):\n",
      "  File \"/Users/narea/Desktop/ironhack/labs/lab-functions/mod/testing.py\", line 202, in runTest\n",
      "    self.assertEqual(fn(self.input), self.output, f\"Should be {self.output}\")\n",
      "  File \"/var/folders/dj/6p4w_3415gd7vr_k5c0wjgjc0000gn/T/ipykernel_87514/2327119212.py\", line 13, in check_pass\n",
      "    if char.islower():\n",
      "AttributeError: 'int' object has no attribute 'islower'\n",
      "\n",
      "======================================================================\n",
      "ERROR: runTest (mod.testing.test_pass.<locals>.TestKnown)\n",
      "----------------------------------------------------------------------\n",
      "Traceback (most recent call last):\n",
      "  File \"/Users/narea/Desktop/ironhack/labs/lab-functions/mod/testing.py\", line 202, in runTest\n",
      "    self.assertEqual(fn(self.input), self.output, f\"Should be {self.output}\")\n",
      "  File \"/var/folders/dj/6p4w_3415gd7vr_k5c0wjgjc0000gn/T/ipykernel_87514/2327119212.py\", line 13, in check_pass\n",
      "    if char.islower():\n",
      "AttributeError: 'int' object has no attribute 'islower'\n",
      "\n",
      "======================================================================\n",
      "ERROR: runTest (mod.testing.test_pass.<locals>.TestKnown)\n",
      "----------------------------------------------------------------------\n",
      "Traceback (most recent call last):\n",
      "  File \"/Users/narea/Desktop/ironhack/labs/lab-functions/mod/testing.py\", line 202, in runTest\n",
      "    self.assertEqual(fn(self.input), self.output, f\"Should be {self.output}\")\n",
      "  File \"/var/folders/dj/6p4w_3415gd7vr_k5c0wjgjc0000gn/T/ipykernel_87514/2327119212.py\", line 13, in check_pass\n",
      "    if char.islower():\n",
      "AttributeError: 'int' object has no attribute 'islower'\n",
      "\n",
      "======================================================================\n",
      "ERROR: runTest (mod.testing.test_pass.<locals>.TestKnown)\n",
      "----------------------------------------------------------------------\n",
      "Traceback (most recent call last):\n",
      "  File \"/Users/narea/Desktop/ironhack/labs/lab-functions/mod/testing.py\", line 202, in runTest\n",
      "    self.assertEqual(fn(self.input), self.output, f\"Should be {self.output}\")\n",
      "  File \"/var/folders/dj/6p4w_3415gd7vr_k5c0wjgjc0000gn/T/ipykernel_87514/2327119212.py\", line 13, in check_pass\n",
      "    if char.islower():\n",
      "AttributeError: 'int' object has no attribute 'islower'\n",
      "\n",
      "======================================================================\n",
      "ERROR: runTest (mod.testing.test_pass.<locals>.TestKnown)\n",
      "----------------------------------------------------------------------\n",
      "Traceback (most recent call last):\n",
      "  File \"/Users/narea/Desktop/ironhack/labs/lab-functions/mod/testing.py\", line 202, in runTest\n",
      "    self.assertEqual(fn(self.input), self.output, f\"Should be {self.output}\")\n",
      "  File \"/var/folders/dj/6p4w_3415gd7vr_k5c0wjgjc0000gn/T/ipykernel_87514/2327119212.py\", line 13, in check_pass\n",
      "    if char.islower():\n",
      "AttributeError: 'int' object has no attribute 'islower'\n",
      "\n",
      "======================================================================\n",
      "ERROR: runTest (mod.testing.test_pass.<locals>.TestKnown)\n",
      "----------------------------------------------------------------------\n",
      "Traceback (most recent call last):\n",
      "  File \"/Users/narea/Desktop/ironhack/labs/lab-functions/mod/testing.py\", line 202, in runTest\n",
      "    self.assertEqual(fn(self.input), self.output, f\"Should be {self.output}\")\n",
      "  File \"/var/folders/dj/6p4w_3415gd7vr_k5c0wjgjc0000gn/T/ipykernel_87514/2327119212.py\", line 13, in check_pass\n",
      "    if char.islower():\n",
      "AttributeError: 'int' object has no attribute 'islower'\n",
      "\n",
      "======================================================================\n",
      "ERROR: runTest (mod.testing.test_pass.<locals>.TestKnown)\n",
      "----------------------------------------------------------------------\n",
      "Traceback (most recent call last):\n",
      "  File \"/Users/narea/Desktop/ironhack/labs/lab-functions/mod/testing.py\", line 202, in runTest\n",
      "    self.assertEqual(fn(self.input), self.output, f\"Should be {self.output}\")\n",
      "  File \"/var/folders/dj/6p4w_3415gd7vr_k5c0wjgjc0000gn/T/ipykernel_87514/2327119212.py\", line 13, in check_pass\n",
      "    if char.islower():\n",
      "AttributeError: 'int' object has no attribute 'islower'\n",
      "\n",
      "======================================================================\n",
      "ERROR: runTest (mod.testing.test_pass.<locals>.TestKnown)\n",
      "----------------------------------------------------------------------\n",
      "Traceback (most recent call last):\n",
      "  File \"/Users/narea/Desktop/ironhack/labs/lab-functions/mod/testing.py\", line 202, in runTest\n",
      "    self.assertEqual(fn(self.input), self.output, f\"Should be {self.output}\")\n",
      "  File \"/var/folders/dj/6p4w_3415gd7vr_k5c0wjgjc0000gn/T/ipykernel_87514/2327119212.py\", line 13, in check_pass\n",
      "    if char.islower():\n",
      "AttributeError: 'int' object has no attribute 'islower'\n",
      "\n",
      "======================================================================\n",
      "ERROR: runTest (mod.testing.test_pass.<locals>.TestKnown)\n",
      "----------------------------------------------------------------------\n",
      "Traceback (most recent call last):\n",
      "  File \"/Users/narea/Desktop/ironhack/labs/lab-functions/mod/testing.py\", line 202, in runTest\n",
      "    self.assertEqual(fn(self.input), self.output, f\"Should be {self.output}\")\n",
      "  File \"/var/folders/dj/6p4w_3415gd7vr_k5c0wjgjc0000gn/T/ipykernel_87514/2327119212.py\", line 13, in check_pass\n",
      "    if char.islower():\n",
      "AttributeError: 'int' object has no attribute 'islower'\n",
      "\n",
      "======================================================================\n",
      "ERROR: runTest (mod.testing.test_pass.<locals>.TestKnown)\n",
      "----------------------------------------------------------------------\n",
      "Traceback (most recent call last):\n",
      "  File \"/Users/narea/Desktop/ironhack/labs/lab-functions/mod/testing.py\", line 202, in runTest\n",
      "    self.assertEqual(fn(self.input), self.output, f\"Should be {self.output}\")\n",
      "  File \"/var/folders/dj/6p4w_3415gd7vr_k5c0wjgjc0000gn/T/ipykernel_87514/2327119212.py\", line 13, in check_pass\n",
      "    if char.islower():\n",
      "AttributeError: 'int' object has no attribute 'islower'\n",
      "\n",
      "======================================================================\n",
      "ERROR: runTest (mod.testing.test_pass.<locals>.TestKnown)\n",
      "----------------------------------------------------------------------\n",
      "Traceback (most recent call last):\n",
      "  File \"/Users/narea/Desktop/ironhack/labs/lab-functions/mod/testing.py\", line 202, in runTest\n",
      "    self.assertEqual(fn(self.input), self.output, f\"Should be {self.output}\")\n",
      "  File \"/var/folders/dj/6p4w_3415gd7vr_k5c0wjgjc0000gn/T/ipykernel_87514/2327119212.py\", line 13, in check_pass\n",
      "    if char.islower():\n",
      "AttributeError: 'int' object has no attribute 'islower'\n",
      "\n",
      "======================================================================\n",
      "ERROR: runTest (mod.testing.test_pass.<locals>.TestKnown)\n",
      "----------------------------------------------------------------------\n",
      "Traceback (most recent call last):\n",
      "  File \"/Users/narea/Desktop/ironhack/labs/lab-functions/mod/testing.py\", line 202, in runTest\n",
      "    self.assertEqual(fn(self.input), self.output, f\"Should be {self.output}\")\n",
      "  File \"/var/folders/dj/6p4w_3415gd7vr_k5c0wjgjc0000gn/T/ipykernel_87514/2327119212.py\", line 13, in check_pass\n",
      "    if char.islower():\n",
      "AttributeError: 'int' object has no attribute 'islower'\n",
      "\n",
      "======================================================================\n",
      "ERROR: runTest (mod.testing.test_pass.<locals>.TestKnown)\n",
      "----------------------------------------------------------------------\n",
      "Traceback (most recent call last):\n",
      "  File \"/Users/narea/Desktop/ironhack/labs/lab-functions/mod/testing.py\", line 202, in runTest\n",
      "    self.assertEqual(fn(self.input), self.output, f\"Should be {self.output}\")\n",
      "  File \"/var/folders/dj/6p4w_3415gd7vr_k5c0wjgjc0000gn/T/ipykernel_87514/2327119212.py\", line 13, in check_pass\n",
      "    if char.islower():\n",
      "AttributeError: 'int' object has no attribute 'islower'\n",
      "\n",
      "======================================================================\n",
      "ERROR: runTest (mod.testing.test_pass.<locals>.TestKnown)\n",
      "----------------------------------------------------------------------\n",
      "Traceback (most recent call last):\n",
      "  File \"/Users/narea/Desktop/ironhack/labs/lab-functions/mod/testing.py\", line 202, in runTest\n",
      "    self.assertEqual(fn(self.input), self.output, f\"Should be {self.output}\")\n",
      "  File \"/var/folders/dj/6p4w_3415gd7vr_k5c0wjgjc0000gn/T/ipykernel_87514/2327119212.py\", line 13, in check_pass\n",
      "    if char.islower():\n",
      "AttributeError: 'int' object has no attribute 'islower'\n",
      "\n",
      "======================================================================\n",
      "ERROR: runTest (mod.testing.test_pass.<locals>.TestKnown)\n",
      "----------------------------------------------------------------------\n",
      "Traceback (most recent call last):\n",
      "  File \"/Users/narea/Desktop/ironhack/labs/lab-functions/mod/testing.py\", line 202, in runTest\n",
      "    self.assertEqual(fn(self.input), self.output, f\"Should be {self.output}\")\n",
      "  File \"/var/folders/dj/6p4w_3415gd7vr_k5c0wjgjc0000gn/T/ipykernel_87514/2327119212.py\", line 13, in check_pass\n",
      "    if char.islower():\n",
      "AttributeError: 'int' object has no attribute 'islower'\n",
      "\n",
      "======================================================================\n",
      "ERROR: runTest (mod.testing.test_pass.<locals>.TestKnown)\n",
      "----------------------------------------------------------------------\n",
      "Traceback (most recent call last):\n",
      "  File \"/Users/narea/Desktop/ironhack/labs/lab-functions/mod/testing.py\", line 202, in runTest\n",
      "    self.assertEqual(fn(self.input), self.output, f\"Should be {self.output}\")\n",
      "  File \"/var/folders/dj/6p4w_3415gd7vr_k5c0wjgjc0000gn/T/ipykernel_87514/2327119212.py\", line 13, in check_pass\n",
      "    if char.islower():\n",
      "AttributeError: 'int' object has no attribute 'islower'\n",
      "\n",
      "======================================================================\n",
      "ERROR: runTest (mod.testing.test_pass.<locals>.TestKnown)\n",
      "----------------------------------------------------------------------\n",
      "Traceback (most recent call last):\n",
      "  File \"/Users/narea/Desktop/ironhack/labs/lab-functions/mod/testing.py\", line 202, in runTest\n",
      "    self.assertEqual(fn(self.input), self.output, f\"Should be {self.output}\")\n",
      "  File \"/var/folders/dj/6p4w_3415gd7vr_k5c0wjgjc0000gn/T/ipykernel_87514/2327119212.py\", line 13, in check_pass\n",
      "    if char.islower():\n",
      "AttributeError: 'int' object has no attribute 'islower'\n",
      "\n",
      "======================================================================\n",
      "ERROR: runTest (mod.testing.test_pass.<locals>.TestKnown)\n",
      "----------------------------------------------------------------------\n",
      "Traceback (most recent call last):\n",
      "  File \"/Users/narea/Desktop/ironhack/labs/lab-functions/mod/testing.py\", line 202, in runTest\n",
      "    self.assertEqual(fn(self.input), self.output, f\"Should be {self.output}\")\n",
      "  File \"/var/folders/dj/6p4w_3415gd7vr_k5c0wjgjc0000gn/T/ipykernel_87514/2327119212.py\", line 13, in check_pass\n",
      "    if char.islower():\n",
      "AttributeError: 'int' object has no attribute 'islower'\n",
      "\n",
      "======================================================================\n",
      "ERROR: runTest (mod.testing.test_pass.<locals>.TestKnown)\n",
      "----------------------------------------------------------------------\n",
      "Traceback (most recent call last):\n",
      "  File \"/Users/narea/Desktop/ironhack/labs/lab-functions/mod/testing.py\", line 202, in runTest\n",
      "    self.assertEqual(fn(self.input), self.output, f\"Should be {self.output}\")\n",
      "  File \"/var/folders/dj/6p4w_3415gd7vr_k5c0wjgjc0000gn/T/ipykernel_87514/2327119212.py\", line 13, in check_pass\n",
      "    if char.islower():\n",
      "AttributeError: 'int' object has no attribute 'islower'\n",
      "\n",
      "======================================================================\n",
      "ERROR: runTest (mod.testing.test_pass.<locals>.TestKnown)\n",
      "----------------------------------------------------------------------\n",
      "Traceback (most recent call last):\n",
      "  File \"/Users/narea/Desktop/ironhack/labs/lab-functions/mod/testing.py\", line 202, in runTest\n",
      "    self.assertEqual(fn(self.input), self.output, f\"Should be {self.output}\")\n",
      "  File \"/var/folders/dj/6p4w_3415gd7vr_k5c0wjgjc0000gn/T/ipykernel_87514/2327119212.py\", line 13, in check_pass\n",
      "    if char.islower():\n",
      "AttributeError: 'int' object has no attribute 'islower'\n",
      "\n",
      "======================================================================\n",
      "ERROR: runTest (mod.testing.test_pass.<locals>.TestKnown)\n",
      "----------------------------------------------------------------------\n",
      "Traceback (most recent call last):\n",
      "  File \"/Users/narea/Desktop/ironhack/labs/lab-functions/mod/testing.py\", line 202, in runTest\n",
      "    self.assertEqual(fn(self.input), self.output, f\"Should be {self.output}\")\n",
      "  File \"/var/folders/dj/6p4w_3415gd7vr_k5c0wjgjc0000gn/T/ipykernel_87514/2327119212.py\", line 13, in check_pass\n",
      "    if char.islower():\n",
      "AttributeError: 'int' object has no attribute 'islower'\n",
      "\n",
      "======================================================================\n",
      "ERROR: runTest (mod.testing.test_pass.<locals>.TestKnown)\n",
      "----------------------------------------------------------------------\n",
      "Traceback (most recent call last):\n",
      "  File \"/Users/narea/Desktop/ironhack/labs/lab-functions/mod/testing.py\", line 202, in runTest\n",
      "    self.assertEqual(fn(self.input), self.output, f\"Should be {self.output}\")\n",
      "  File \"/var/folders/dj/6p4w_3415gd7vr_k5c0wjgjc0000gn/T/ipykernel_87514/2327119212.py\", line 13, in check_pass\n",
      "    if char.islower():\n",
      "AttributeError: 'int' object has no attribute 'islower'\n",
      "\n",
      "======================================================================\n",
      "ERROR: runTest (mod.testing.test_pass.<locals>.TestKnown)\n",
      "----------------------------------------------------------------------\n",
      "Traceback (most recent call last):\n",
      "  File \"/Users/narea/Desktop/ironhack/labs/lab-functions/mod/testing.py\", line 202, in runTest\n",
      "    self.assertEqual(fn(self.input), self.output, f\"Should be {self.output}\")\n",
      "  File \"/var/folders/dj/6p4w_3415gd7vr_k5c0wjgjc0000gn/T/ipykernel_87514/2327119212.py\", line 13, in check_pass\n",
      "    if char.islower():\n",
      "AttributeError: 'int' object has no attribute 'islower'\n",
      "\n",
      "======================================================================\n",
      "ERROR: runTest (mod.testing.test_pass.<locals>.TestKnown)\n",
      "----------------------------------------------------------------------\n",
      "Traceback (most recent call last):\n",
      "  File \"/Users/narea/Desktop/ironhack/labs/lab-functions/mod/testing.py\", line 202, in runTest\n",
      "    self.assertEqual(fn(self.input), self.output, f\"Should be {self.output}\")\n",
      "  File \"/var/folders/dj/6p4w_3415gd7vr_k5c0wjgjc0000gn/T/ipykernel_87514/2327119212.py\", line 13, in check_pass\n",
      "    if char.islower():\n",
      "AttributeError: 'int' object has no attribute 'islower'\n",
      "\n",
      "======================================================================\n",
      "ERROR: runTest (mod.testing.test_pass.<locals>.TestKnown)\n",
      "----------------------------------------------------------------------\n",
      "Traceback (most recent call last):\n",
      "  File \"/Users/narea/Desktop/ironhack/labs/lab-functions/mod/testing.py\", line 202, in runTest\n",
      "    self.assertEqual(fn(self.input), self.output, f\"Should be {self.output}\")\n",
      "  File \"/var/folders/dj/6p4w_3415gd7vr_k5c0wjgjc0000gn/T/ipykernel_87514/2327119212.py\", line 13, in check_pass\n",
      "    if char.islower():\n",
      "AttributeError: 'int' object has no attribute 'islower'\n",
      "\n",
      "======================================================================\n",
      "ERROR: runTest (mod.testing.test_pass.<locals>.TestKnown)\n",
      "----------------------------------------------------------------------\n",
      "Traceback (most recent call last):\n",
      "  File \"/Users/narea/Desktop/ironhack/labs/lab-functions/mod/testing.py\", line 202, in runTest\n",
      "    self.assertEqual(fn(self.input), self.output, f\"Should be {self.output}\")\n",
      "  File \"/var/folders/dj/6p4w_3415gd7vr_k5c0wjgjc0000gn/T/ipykernel_87514/2327119212.py\", line 13, in check_pass\n",
      "    if char.islower():\n",
      "AttributeError: 'int' object has no attribute 'islower'\n",
      "\n",
      "======================================================================\n",
      "ERROR: runTest (mod.testing.test_pass.<locals>.TestKnown)\n",
      "----------------------------------------------------------------------\n",
      "Traceback (most recent call last):\n",
      "  File \"/Users/narea/Desktop/ironhack/labs/lab-functions/mod/testing.py\", line 202, in runTest\n",
      "    self.assertEqual(fn(self.input), self.output, f\"Should be {self.output}\")\n",
      "  File \"/var/folders/dj/6p4w_3415gd7vr_k5c0wjgjc0000gn/T/ipykernel_87514/2327119212.py\", line 13, in check_pass\n",
      "    if char.islower():\n",
      "AttributeError: 'int' object has no attribute 'islower'\n",
      "\n",
      "======================================================================\n",
      "ERROR: runTest (mod.testing.test_pass.<locals>.TestKnown)\n",
      "----------------------------------------------------------------------\n",
      "Traceback (most recent call last):\n",
      "  File \"/Users/narea/Desktop/ironhack/labs/lab-functions/mod/testing.py\", line 202, in runTest\n",
      "    self.assertEqual(fn(self.input), self.output, f\"Should be {self.output}\")\n",
      "  File \"/var/folders/dj/6p4w_3415gd7vr_k5c0wjgjc0000gn/T/ipykernel_87514/2327119212.py\", line 13, in check_pass\n",
      "    if char.islower():\n",
      "AttributeError: 'int' object has no attribute 'islower'\n",
      "\n",
      "======================================================================\n",
      "ERROR: runTest (mod.testing.test_pass.<locals>.TestKnown)\n",
      "----------------------------------------------------------------------\n",
      "Traceback (most recent call last):\n",
      "  File \"/Users/narea/Desktop/ironhack/labs/lab-functions/mod/testing.py\", line 202, in runTest\n",
      "    self.assertEqual(fn(self.input), self.output, f\"Should be {self.output}\")\n",
      "  File \"/var/folders/dj/6p4w_3415gd7vr_k5c0wjgjc0000gn/T/ipykernel_87514/2327119212.py\", line 13, in check_pass\n",
      "    if char.islower():\n",
      "AttributeError: 'int' object has no attribute 'islower'\n",
      "\n",
      "======================================================================\n",
      "ERROR: runTest (mod.testing.test_pass.<locals>.TestKnown)\n",
      "----------------------------------------------------------------------\n",
      "Traceback (most recent call last):\n",
      "  File \"/Users/narea/Desktop/ironhack/labs/lab-functions/mod/testing.py\", line 202, in runTest\n",
      "    self.assertEqual(fn(self.input), self.output, f\"Should be {self.output}\")\n",
      "  File \"/var/folders/dj/6p4w_3415gd7vr_k5c0wjgjc0000gn/T/ipykernel_87514/2327119212.py\", line 13, in check_pass\n",
      "    if char.islower():\n",
      "AttributeError: 'int' object has no attribute 'islower'\n",
      "\n",
      "======================================================================\n",
      "ERROR: runTest (mod.testing.test_pass.<locals>.TestKnown)\n",
      "----------------------------------------------------------------------\n",
      "Traceback (most recent call last):\n",
      "  File \"/Users/narea/Desktop/ironhack/labs/lab-functions/mod/testing.py\", line 202, in runTest\n",
      "    self.assertEqual(fn(self.input), self.output, f\"Should be {self.output}\")\n",
      "  File \"/var/folders/dj/6p4w_3415gd7vr_k5c0wjgjc0000gn/T/ipykernel_87514/2327119212.py\", line 13, in check_pass\n",
      "    if char.islower():\n",
      "AttributeError: 'int' object has no attribute 'islower'\n",
      "\n",
      "======================================================================\n",
      "ERROR: runTest (mod.testing.test_pass.<locals>.TestKnown)\n",
      "----------------------------------------------------------------------\n",
      "Traceback (most recent call last):\n",
      "  File \"/Users/narea/Desktop/ironhack/labs/lab-functions/mod/testing.py\", line 202, in runTest\n",
      "    self.assertEqual(fn(self.input), self.output, f\"Should be {self.output}\")\n",
      "  File \"/var/folders/dj/6p4w_3415gd7vr_k5c0wjgjc0000gn/T/ipykernel_87514/2327119212.py\", line 13, in check_pass\n",
      "    if char.islower():\n",
      "AttributeError: 'int' object has no attribute 'islower'\n",
      "\n",
      "======================================================================\n",
      "ERROR: runTest (mod.testing.test_pass.<locals>.TestKnown)\n",
      "----------------------------------------------------------------------\n",
      "Traceback (most recent call last):\n",
      "  File \"/Users/narea/Desktop/ironhack/labs/lab-functions/mod/testing.py\", line 202, in runTest\n",
      "    self.assertEqual(fn(self.input), self.output, f\"Should be {self.output}\")\n",
      "  File \"/var/folders/dj/6p4w_3415gd7vr_k5c0wjgjc0000gn/T/ipykernel_87514/2327119212.py\", line 13, in check_pass\n",
      "    if char.islower():\n",
      "AttributeError: 'int' object has no attribute 'islower'\n",
      "\n",
      "======================================================================\n",
      "ERROR: runTest (mod.testing.test_pass.<locals>.TestKnown)\n",
      "----------------------------------------------------------------------\n",
      "Traceback (most recent call last):\n",
      "  File \"/Users/narea/Desktop/ironhack/labs/lab-functions/mod/testing.py\", line 202, in runTest\n",
      "    self.assertEqual(fn(self.input), self.output, f\"Should be {self.output}\")\n",
      "  File \"/var/folders/dj/6p4w_3415gd7vr_k5c0wjgjc0000gn/T/ipykernel_87514/2327119212.py\", line 13, in check_pass\n",
      "    if char.islower():\n",
      "AttributeError: 'int' object has no attribute 'islower'\n",
      "\n",
      "======================================================================\n",
      "ERROR: runTest (mod.testing.test_pass.<locals>.TestKnown)\n",
      "----------------------------------------------------------------------\n",
      "Traceback (most recent call last):\n",
      "  File \"/Users/narea/Desktop/ironhack/labs/lab-functions/mod/testing.py\", line 202, in runTest\n",
      "    self.assertEqual(fn(self.input), self.output, f\"Should be {self.output}\")\n",
      "  File \"/var/folders/dj/6p4w_3415gd7vr_k5c0wjgjc0000gn/T/ipykernel_87514/2327119212.py\", line 13, in check_pass\n",
      "    if char.islower():\n",
      "AttributeError: 'int' object has no attribute 'islower'\n",
      "\n",
      "======================================================================\n",
      "ERROR: runTest (mod.testing.test_pass.<locals>.TestKnown)\n",
      "----------------------------------------------------------------------\n",
      "Traceback (most recent call last):\n",
      "  File \"/Users/narea/Desktop/ironhack/labs/lab-functions/mod/testing.py\", line 202, in runTest\n",
      "    self.assertEqual(fn(self.input), self.output, f\"Should be {self.output}\")\n",
      "  File \"/var/folders/dj/6p4w_3415gd7vr_k5c0wjgjc0000gn/T/ipykernel_87514/2327119212.py\", line 13, in check_pass\n",
      "    if char.islower():\n",
      "AttributeError: 'int' object has no attribute 'islower'\n",
      "\n",
      "======================================================================\n",
      "ERROR: runTest (mod.testing.test_pass.<locals>.TestKnown)\n",
      "----------------------------------------------------------------------\n",
      "Traceback (most recent call last):\n",
      "  File \"/Users/narea/Desktop/ironhack/labs/lab-functions/mod/testing.py\", line 202, in runTest\n",
      "    self.assertEqual(fn(self.input), self.output, f\"Should be {self.output}\")\n",
      "  File \"/var/folders/dj/6p4w_3415gd7vr_k5c0wjgjc0000gn/T/ipykernel_87514/2327119212.py\", line 13, in check_pass\n",
      "    if char.islower():\n",
      "AttributeError: 'int' object has no attribute 'islower'\n",
      "\n",
      "======================================================================\n",
      "ERROR: runTest (mod.testing.test_pass.<locals>.TestKnown)\n",
      "----------------------------------------------------------------------\n",
      "Traceback (most recent call last):\n",
      "  File \"/Users/narea/Desktop/ironhack/labs/lab-functions/mod/testing.py\", line 202, in runTest\n",
      "    self.assertEqual(fn(self.input), self.output, f\"Should be {self.output}\")\n",
      "  File \"/var/folders/dj/6p4w_3415gd7vr_k5c0wjgjc0000gn/T/ipykernel_87514/2327119212.py\", line 13, in check_pass\n",
      "    if char.islower():\n",
      "AttributeError: 'int' object has no attribute 'islower'\n",
      "\n",
      "======================================================================\n",
      "ERROR: runTest (mod.testing.test_pass.<locals>.TestKnown)\n",
      "----------------------------------------------------------------------\n",
      "Traceback (most recent call last):\n",
      "  File \"/Users/narea/Desktop/ironhack/labs/lab-functions/mod/testing.py\", line 202, in runTest\n",
      "    self.assertEqual(fn(self.input), self.output, f\"Should be {self.output}\")\n",
      "  File \"/var/folders/dj/6p4w_3415gd7vr_k5c0wjgjc0000gn/T/ipykernel_87514/2327119212.py\", line 13, in check_pass\n",
      "    if char.islower():\n",
      "AttributeError: 'int' object has no attribute 'islower'\n",
      "\n",
      "======================================================================\n",
      "ERROR: runTest (mod.testing.test_pass.<locals>.TestKnown)\n",
      "----------------------------------------------------------------------\n",
      "Traceback (most recent call last):\n",
      "  File \"/Users/narea/Desktop/ironhack/labs/lab-functions/mod/testing.py\", line 202, in runTest\n",
      "    self.assertEqual(fn(self.input), self.output, f\"Should be {self.output}\")\n",
      "  File \"/var/folders/dj/6p4w_3415gd7vr_k5c0wjgjc0000gn/T/ipykernel_87514/2327119212.py\", line 13, in check_pass\n",
      "    if char.islower():\n",
      "AttributeError: 'int' object has no attribute 'islower'\n",
      "\n",
      "======================================================================\n",
      "ERROR: runTest (mod.testing.test_pass.<locals>.TestKnown)\n",
      "----------------------------------------------------------------------\n",
      "Traceback (most recent call last):\n",
      "  File \"/Users/narea/Desktop/ironhack/labs/lab-functions/mod/testing.py\", line 202, in runTest\n",
      "    self.assertEqual(fn(self.input), self.output, f\"Should be {self.output}\")\n",
      "  File \"/var/folders/dj/6p4w_3415gd7vr_k5c0wjgjc0000gn/T/ipykernel_87514/2327119212.py\", line 13, in check_pass\n",
      "    if char.islower():\n",
      "AttributeError: 'int' object has no attribute 'islower'\n",
      "\n",
      "======================================================================\n",
      "ERROR: runTest (mod.testing.test_pass.<locals>.TestKnown)\n",
      "----------------------------------------------------------------------\n",
      "Traceback (most recent call last):\n",
      "  File \"/Users/narea/Desktop/ironhack/labs/lab-functions/mod/testing.py\", line 202, in runTest\n",
      "    self.assertEqual(fn(self.input), self.output, f\"Should be {self.output}\")\n",
      "  File \"/var/folders/dj/6p4w_3415gd7vr_k5c0wjgjc0000gn/T/ipykernel_87514/2327119212.py\", line 13, in check_pass\n",
      "    if char.islower():\n",
      "AttributeError: 'int' object has no attribute 'islower'\n",
      "\n",
      "======================================================================\n",
      "ERROR: runTest (mod.testing.test_pass.<locals>.TestKnown)\n",
      "----------------------------------------------------------------------\n",
      "Traceback (most recent call last):\n",
      "  File \"/Users/narea/Desktop/ironhack/labs/lab-functions/mod/testing.py\", line 202, in runTest\n",
      "    self.assertEqual(fn(self.input), self.output, f\"Should be {self.output}\")\n",
      "  File \"/var/folders/dj/6p4w_3415gd7vr_k5c0wjgjc0000gn/T/ipykernel_87514/2327119212.py\", line 13, in check_pass\n",
      "    if char.islower():\n",
      "AttributeError: 'int' object has no attribute 'islower'\n",
      "\n",
      "======================================================================\n",
      "ERROR: runTest (mod.testing.test_pass.<locals>.TestKnown)\n",
      "----------------------------------------------------------------------\n",
      "Traceback (most recent call last):\n",
      "  File \"/Users/narea/Desktop/ironhack/labs/lab-functions/mod/testing.py\", line 202, in runTest\n",
      "    self.assertEqual(fn(self.input), self.output, f\"Should be {self.output}\")\n",
      "  File \"/var/folders/dj/6p4w_3415gd7vr_k5c0wjgjc0000gn/T/ipykernel_87514/2327119212.py\", line 13, in check_pass\n",
      "    if char.islower():\n",
      "AttributeError: 'int' object has no attribute 'islower'\n",
      "\n",
      "======================================================================\n",
      "ERROR: runTest (mod.testing.test_pass.<locals>.TestKnown)\n",
      "----------------------------------------------------------------------\n",
      "Traceback (most recent call last):\n",
      "  File \"/Users/narea/Desktop/ironhack/labs/lab-functions/mod/testing.py\", line 202, in runTest\n",
      "    self.assertEqual(fn(self.input), self.output, f\"Should be {self.output}\")\n",
      "  File \"/var/folders/dj/6p4w_3415gd7vr_k5c0wjgjc0000gn/T/ipykernel_87514/2327119212.py\", line 13, in check_pass\n",
      "    if char.islower():\n",
      "AttributeError: 'int' object has no attribute 'islower'\n",
      "\n",
      "======================================================================\n",
      "ERROR: runTest (mod.testing.test_pass.<locals>.TestKnown)\n",
      "----------------------------------------------------------------------\n",
      "Traceback (most recent call last):\n",
      "  File \"/Users/narea/Desktop/ironhack/labs/lab-functions/mod/testing.py\", line 202, in runTest\n",
      "    self.assertEqual(fn(self.input), self.output, f\"Should be {self.output}\")\n",
      "  File \"/var/folders/dj/6p4w_3415gd7vr_k5c0wjgjc0000gn/T/ipykernel_87514/2327119212.py\", line 13, in check_pass\n",
      "    if char.islower():\n",
      "AttributeError: 'int' object has no attribute 'islower'\n",
      "\n",
      "======================================================================\n",
      "ERROR: runTest (mod.testing.test_pass.<locals>.TestKnown)\n",
      "----------------------------------------------------------------------\n",
      "Traceback (most recent call last):\n",
      "  File \"/Users/narea/Desktop/ironhack/labs/lab-functions/mod/testing.py\", line 202, in runTest\n",
      "    self.assertEqual(fn(self.input), self.output, f\"Should be {self.output}\")\n",
      "  File \"/var/folders/dj/6p4w_3415gd7vr_k5c0wjgjc0000gn/T/ipykernel_87514/2327119212.py\", line 13, in check_pass\n",
      "    if char.islower():\n",
      "AttributeError: 'int' object has no attribute 'islower'\n",
      "\n",
      "======================================================================\n",
      "ERROR: runTest (mod.testing.test_pass.<locals>.TestKnown)\n",
      "----------------------------------------------------------------------\n",
      "Traceback (most recent call last):\n",
      "  File \"/Users/narea/Desktop/ironhack/labs/lab-functions/mod/testing.py\", line 202, in runTest\n",
      "    self.assertEqual(fn(self.input), self.output, f\"Should be {self.output}\")\n",
      "  File \"/var/folders/dj/6p4w_3415gd7vr_k5c0wjgjc0000gn/T/ipykernel_87514/2327119212.py\", line 13, in check_pass\n",
      "    if char.islower():\n",
      "AttributeError: 'int' object has no attribute 'islower'\n",
      "\n",
      "======================================================================\n",
      "ERROR: runTest (mod.testing.test_pass.<locals>.TestKnown)\n",
      "----------------------------------------------------------------------\n",
      "Traceback (most recent call last):\n",
      "  File \"/Users/narea/Desktop/ironhack/labs/lab-functions/mod/testing.py\", line 202, in runTest\n",
      "    self.assertEqual(fn(self.input), self.output, f\"Should be {self.output}\")\n",
      "  File \"/var/folders/dj/6p4w_3415gd7vr_k5c0wjgjc0000gn/T/ipykernel_87514/2327119212.py\", line 13, in check_pass\n",
      "    if char.islower():\n",
      "AttributeError: 'int' object has no attribute 'islower'\n",
      "\n",
      "======================================================================\n",
      "ERROR: runTest (mod.testing.test_pass.<locals>.TestKnown)\n",
      "----------------------------------------------------------------------\n",
      "Traceback (most recent call last):\n",
      "  File \"/Users/narea/Desktop/ironhack/labs/lab-functions/mod/testing.py\", line 202, in runTest\n",
      "    self.assertEqual(fn(self.input), self.output, f\"Should be {self.output}\")\n",
      "  File \"/var/folders/dj/6p4w_3415gd7vr_k5c0wjgjc0000gn/T/ipykernel_87514/2327119212.py\", line 13, in check_pass\n",
      "    if char.islower():\n",
      "AttributeError: 'int' object has no attribute 'islower'\n",
      "\n",
      "======================================================================\n",
      "ERROR: runTest (mod.testing.test_pass.<locals>.TestKnown)\n",
      "----------------------------------------------------------------------\n",
      "Traceback (most recent call last):\n",
      "  File \"/Users/narea/Desktop/ironhack/labs/lab-functions/mod/testing.py\", line 202, in runTest\n",
      "    self.assertEqual(fn(self.input), self.output, f\"Should be {self.output}\")\n",
      "  File \"/var/folders/dj/6p4w_3415gd7vr_k5c0wjgjc0000gn/T/ipykernel_87514/2327119212.py\", line 13, in check_pass\n",
      "    if char.islower():\n",
      "AttributeError: 'int' object has no attribute 'islower'\n",
      "\n",
      "======================================================================\n",
      "ERROR: runTest (mod.testing.test_pass.<locals>.TestKnown)\n",
      "----------------------------------------------------------------------\n",
      "Traceback (most recent call last):\n",
      "  File \"/Users/narea/Desktop/ironhack/labs/lab-functions/mod/testing.py\", line 202, in runTest\n",
      "    self.assertEqual(fn(self.input), self.output, f\"Should be {self.output}\")\n",
      "  File \"/var/folders/dj/6p4w_3415gd7vr_k5c0wjgjc0000gn/T/ipykernel_87514/2327119212.py\", line 13, in check_pass\n",
      "    if char.islower():\n",
      "AttributeError: 'int' object has no attribute 'islower'\n",
      "\n",
      "======================================================================\n",
      "ERROR: runTest (mod.testing.test_pass.<locals>.TestKnown)\n",
      "----------------------------------------------------------------------\n",
      "Traceback (most recent call last):\n",
      "  File \"/Users/narea/Desktop/ironhack/labs/lab-functions/mod/testing.py\", line 202, in runTest\n",
      "    self.assertEqual(fn(self.input), self.output, f\"Should be {self.output}\")\n",
      "  File \"/var/folders/dj/6p4w_3415gd7vr_k5c0wjgjc0000gn/T/ipykernel_87514/2327119212.py\", line 13, in check_pass\n",
      "    if char.islower():\n",
      "AttributeError: 'int' object has no attribute 'islower'\n",
      "\n",
      "======================================================================\n",
      "ERROR: runTest (mod.testing.test_pass.<locals>.TestKnown)\n",
      "----------------------------------------------------------------------\n",
      "Traceback (most recent call last):\n",
      "  File \"/Users/narea/Desktop/ironhack/labs/lab-functions/mod/testing.py\", line 202, in runTest\n",
      "    self.assertEqual(fn(self.input), self.output, f\"Should be {self.output}\")\n",
      "  File \"/var/folders/dj/6p4w_3415gd7vr_k5c0wjgjc0000gn/T/ipykernel_87514/2327119212.py\", line 13, in check_pass\n",
      "    if char.islower():\n",
      "AttributeError: 'int' object has no attribute 'islower'\n",
      "\n",
      "======================================================================\n",
      "ERROR: runTest (mod.testing.test_pass.<locals>.TestKnown)\n",
      "----------------------------------------------------------------------\n",
      "Traceback (most recent call last):\n",
      "  File \"/Users/narea/Desktop/ironhack/labs/lab-functions/mod/testing.py\", line 202, in runTest\n",
      "    self.assertEqual(fn(self.input), self.output, f\"Should be {self.output}\")\n",
      "  File \"/var/folders/dj/6p4w_3415gd7vr_k5c0wjgjc0000gn/T/ipykernel_87514/2327119212.py\", line 13, in check_pass\n",
      "    if char.islower():\n",
      "AttributeError: 'int' object has no attribute 'islower'\n",
      "\n",
      "======================================================================\n",
      "ERROR: runTest (mod.testing.test_pass.<locals>.TestKnown)\n",
      "----------------------------------------------------------------------\n",
      "Traceback (most recent call last):\n",
      "  File \"/Users/narea/Desktop/ironhack/labs/lab-functions/mod/testing.py\", line 202, in runTest\n",
      "    self.assertEqual(fn(self.input), self.output, f\"Should be {self.output}\")\n",
      "  File \"/var/folders/dj/6p4w_3415gd7vr_k5c0wjgjc0000gn/T/ipykernel_87514/2327119212.py\", line 13, in check_pass\n",
      "    if char.islower():\n",
      "AttributeError: 'int' object has no attribute 'islower'\n",
      "\n",
      "======================================================================\n",
      "ERROR: runTest (mod.testing.test_pass.<locals>.TestKnown)\n",
      "----------------------------------------------------------------------\n",
      "Traceback (most recent call last):\n",
      "  File \"/Users/narea/Desktop/ironhack/labs/lab-functions/mod/testing.py\", line 202, in runTest\n",
      "    self.assertEqual(fn(self.input), self.output, f\"Should be {self.output}\")\n",
      "  File \"/var/folders/dj/6p4w_3415gd7vr_k5c0wjgjc0000gn/T/ipykernel_87514/2327119212.py\", line 13, in check_pass\n",
      "    if char.islower():\n",
      "AttributeError: 'int' object has no attribute 'islower'\n",
      "\n",
      "======================================================================\n",
      "ERROR: runTest (mod.testing.test_pass.<locals>.TestKnown)\n",
      "----------------------------------------------------------------------\n",
      "Traceback (most recent call last):\n",
      "  File \"/Users/narea/Desktop/ironhack/labs/lab-functions/mod/testing.py\", line 202, in runTest\n",
      "    self.assertEqual(fn(self.input), self.output, f\"Should be {self.output}\")\n",
      "  File \"/var/folders/dj/6p4w_3415gd7vr_k5c0wjgjc0000gn/T/ipykernel_87514/2327119212.py\", line 13, in check_pass\n",
      "    if char.islower():\n",
      "AttributeError: 'int' object has no attribute 'islower'\n",
      "\n",
      "======================================================================\n",
      "ERROR: runTest (mod.testing.test_pass.<locals>.TestKnown)\n",
      "----------------------------------------------------------------------\n",
      "Traceback (most recent call last):\n",
      "  File \"/Users/narea/Desktop/ironhack/labs/lab-functions/mod/testing.py\", line 202, in runTest\n",
      "    self.assertEqual(fn(self.input), self.output, f\"Should be {self.output}\")\n",
      "  File \"/var/folders/dj/6p4w_3415gd7vr_k5c0wjgjc0000gn/T/ipykernel_87514/2327119212.py\", line 13, in check_pass\n",
      "    if char.islower():\n",
      "AttributeError: 'int' object has no attribute 'islower'\n",
      "\n",
      "======================================================================\n",
      "ERROR: runTest (mod.testing.test_pass.<locals>.TestKnown)\n",
      "----------------------------------------------------------------------\n",
      "Traceback (most recent call last):\n",
      "  File \"/Users/narea/Desktop/ironhack/labs/lab-functions/mod/testing.py\", line 202, in runTest\n",
      "    self.assertEqual(fn(self.input), self.output, f\"Should be {self.output}\")\n",
      "  File \"/var/folders/dj/6p4w_3415gd7vr_k5c0wjgjc0000gn/T/ipykernel_87514/2327119212.py\", line 13, in check_pass\n",
      "    if char.islower():\n",
      "AttributeError: 'int' object has no attribute 'islower'\n",
      "\n",
      "======================================================================\n",
      "ERROR: runTest (mod.testing.test_pass.<locals>.TestKnown)\n",
      "----------------------------------------------------------------------\n",
      "Traceback (most recent call last):\n",
      "  File \"/Users/narea/Desktop/ironhack/labs/lab-functions/mod/testing.py\", line 202, in runTest\n",
      "    self.assertEqual(fn(self.input), self.output, f\"Should be {self.output}\")\n",
      "  File \"/var/folders/dj/6p4w_3415gd7vr_k5c0wjgjc0000gn/T/ipykernel_87514/2327119212.py\", line 13, in check_pass\n",
      "    if char.islower():\n",
      "AttributeError: 'int' object has no attribute 'islower'\n",
      "\n",
      "======================================================================\n",
      "ERROR: runTest (mod.testing.test_pass.<locals>.TestKnown)\n",
      "----------------------------------------------------------------------\n",
      "Traceback (most recent call last):\n",
      "  File \"/Users/narea/Desktop/ironhack/labs/lab-functions/mod/testing.py\", line 202, in runTest\n",
      "    self.assertEqual(fn(self.input), self.output, f\"Should be {self.output}\")\n",
      "  File \"/var/folders/dj/6p4w_3415gd7vr_k5c0wjgjc0000gn/T/ipykernel_87514/2327119212.py\", line 13, in check_pass\n",
      "    if char.islower():\n",
      "AttributeError: 'int' object has no attribute 'islower'\n",
      "\n",
      "======================================================================\n",
      "ERROR: runTest (mod.testing.test_pass.<locals>.TestKnown)\n",
      "----------------------------------------------------------------------\n",
      "Traceback (most recent call last):\n",
      "  File \"/Users/narea/Desktop/ironhack/labs/lab-functions/mod/testing.py\", line 202, in runTest\n",
      "    self.assertEqual(fn(self.input), self.output, f\"Should be {self.output}\")\n",
      "  File \"/var/folders/dj/6p4w_3415gd7vr_k5c0wjgjc0000gn/T/ipykernel_87514/2327119212.py\", line 13, in check_pass\n",
      "    if char.islower():\n",
      "AttributeError: 'int' object has no attribute 'islower'\n",
      "\n",
      "======================================================================\n",
      "ERROR: runTest (mod.testing.test_pass.<locals>.TestKnown)\n",
      "----------------------------------------------------------------------\n",
      "Traceback (most recent call last):\n",
      "  File \"/Users/narea/Desktop/ironhack/labs/lab-functions/mod/testing.py\", line 202, in runTest\n",
      "    self.assertEqual(fn(self.input), self.output, f\"Should be {self.output}\")\n",
      "  File \"/var/folders/dj/6p4w_3415gd7vr_k5c0wjgjc0000gn/T/ipykernel_87514/2327119212.py\", line 13, in check_pass\n",
      "    if char.islower():\n",
      "AttributeError: 'int' object has no attribute 'islower'\n",
      "\n",
      "======================================================================\n",
      "ERROR: runTest (mod.testing.test_pass.<locals>.TestKnown)\n",
      "----------------------------------------------------------------------\n",
      "Traceback (most recent call last):\n",
      "  File \"/Users/narea/Desktop/ironhack/labs/lab-functions/mod/testing.py\", line 202, in runTest\n",
      "    self.assertEqual(fn(self.input), self.output, f\"Should be {self.output}\")\n",
      "  File \"/var/folders/dj/6p4w_3415gd7vr_k5c0wjgjc0000gn/T/ipykernel_87514/2327119212.py\", line 13, in check_pass\n",
      "    if char.islower():\n",
      "AttributeError: 'int' object has no attribute 'islower'\n",
      "\n",
      "======================================================================\n",
      "ERROR: runTest (mod.testing.test_pass.<locals>.TestKnown)\n",
      "----------------------------------------------------------------------\n",
      "Traceback (most recent call last):\n",
      "  File \"/Users/narea/Desktop/ironhack/labs/lab-functions/mod/testing.py\", line 202, in runTest\n",
      "    self.assertEqual(fn(self.input), self.output, f\"Should be {self.output}\")\n",
      "  File \"/var/folders/dj/6p4w_3415gd7vr_k5c0wjgjc0000gn/T/ipykernel_87514/2327119212.py\", line 13, in check_pass\n",
      "    if char.islower():\n",
      "AttributeError: 'int' object has no attribute 'islower'\n",
      "\n",
      "======================================================================\n",
      "ERROR: runTest (mod.testing.test_pass.<locals>.TestKnown)\n",
      "----------------------------------------------------------------------\n",
      "Traceback (most recent call last):\n",
      "  File \"/Users/narea/Desktop/ironhack/labs/lab-functions/mod/testing.py\", line 202, in runTest\n",
      "    self.assertEqual(fn(self.input), self.output, f\"Should be {self.output}\")\n",
      "  File \"/var/folders/dj/6p4w_3415gd7vr_k5c0wjgjc0000gn/T/ipykernel_87514/2327119212.py\", line 13, in check_pass\n",
      "    if char.islower():\n",
      "AttributeError: 'int' object has no attribute 'islower'\n",
      "\n",
      "======================================================================\n",
      "ERROR: runTest (mod.testing.test_pass.<locals>.TestKnown)\n",
      "----------------------------------------------------------------------\n",
      "Traceback (most recent call last):\n",
      "  File \"/Users/narea/Desktop/ironhack/labs/lab-functions/mod/testing.py\", line 202, in runTest\n",
      "    self.assertEqual(fn(self.input), self.output, f\"Should be {self.output}\")\n",
      "  File \"/var/folders/dj/6p4w_3415gd7vr_k5c0wjgjc0000gn/T/ipykernel_87514/2327119212.py\", line 13, in check_pass\n",
      "    if char.islower():\n",
      "AttributeError: 'int' object has no attribute 'islower'\n",
      "\n",
      "======================================================================\n",
      "ERROR: runTest (mod.testing.test_pass.<locals>.TestKnown)\n",
      "----------------------------------------------------------------------\n",
      "Traceback (most recent call last):\n",
      "  File \"/Users/narea/Desktop/ironhack/labs/lab-functions/mod/testing.py\", line 202, in runTest\n",
      "    self.assertEqual(fn(self.input), self.output, f\"Should be {self.output}\")\n",
      "  File \"/var/folders/dj/6p4w_3415gd7vr_k5c0wjgjc0000gn/T/ipykernel_87514/2327119212.py\", line 13, in check_pass\n",
      "    if char.islower():\n",
      "AttributeError: 'int' object has no attribute 'islower'\n",
      "\n",
      "======================================================================\n",
      "ERROR: runTest (mod.testing.test_pass.<locals>.TestKnown)\n",
      "----------------------------------------------------------------------\n",
      "Traceback (most recent call last):\n",
      "  File \"/Users/narea/Desktop/ironhack/labs/lab-functions/mod/testing.py\", line 202, in runTest\n",
      "    self.assertEqual(fn(self.input), self.output, f\"Should be {self.output}\")\n",
      "  File \"/var/folders/dj/6p4w_3415gd7vr_k5c0wjgjc0000gn/T/ipykernel_87514/2327119212.py\", line 13, in check_pass\n",
      "    if char.islower():\n",
      "AttributeError: 'int' object has no attribute 'islower'\n",
      "\n",
      "======================================================================\n",
      "ERROR: runTest (mod.testing.test_pass.<locals>.TestKnown)\n",
      "----------------------------------------------------------------------\n",
      "Traceback (most recent call last):\n",
      "  File \"/Users/narea/Desktop/ironhack/labs/lab-functions/mod/testing.py\", line 202, in runTest\n",
      "    self.assertEqual(fn(self.input), self.output, f\"Should be {self.output}\")\n",
      "  File \"/var/folders/dj/6p4w_3415gd7vr_k5c0wjgjc0000gn/T/ipykernel_87514/2327119212.py\", line 13, in check_pass\n",
      "    if char.islower():\n",
      "AttributeError: 'int' object has no attribute 'islower'\n",
      "\n",
      "======================================================================\n",
      "ERROR: runTest (mod.testing.test_pass.<locals>.TestKnown)\n",
      "----------------------------------------------------------------------\n",
      "Traceback (most recent call last):\n",
      "  File \"/Users/narea/Desktop/ironhack/labs/lab-functions/mod/testing.py\", line 202, in runTest\n",
      "    self.assertEqual(fn(self.input), self.output, f\"Should be {self.output}\")\n",
      "  File \"/var/folders/dj/6p4w_3415gd7vr_k5c0wjgjc0000gn/T/ipykernel_87514/2327119212.py\", line 13, in check_pass\n",
      "    if char.islower():\n",
      "AttributeError: 'int' object has no attribute 'islower'\n",
      "\n",
      "======================================================================\n",
      "ERROR: runTest (mod.testing.test_pass.<locals>.TestKnown)\n",
      "----------------------------------------------------------------------\n",
      "Traceback (most recent call last):\n",
      "  File \"/Users/narea/Desktop/ironhack/labs/lab-functions/mod/testing.py\", line 202, in runTest\n",
      "    self.assertEqual(fn(self.input), self.output, f\"Should be {self.output}\")\n",
      "  File \"/var/folders/dj/6p4w_3415gd7vr_k5c0wjgjc0000gn/T/ipykernel_87514/2327119212.py\", line 13, in check_pass\n",
      "    if char.islower():\n",
      "AttributeError: 'int' object has no attribute 'islower'\n",
      "\n",
      "======================================================================\n",
      "ERROR: runTest (mod.testing.test_pass.<locals>.TestKnown)\n",
      "----------------------------------------------------------------------\n",
      "Traceback (most recent call last):\n",
      "  File \"/Users/narea/Desktop/ironhack/labs/lab-functions/mod/testing.py\", line 202, in runTest\n",
      "    self.assertEqual(fn(self.input), self.output, f\"Should be {self.output}\")\n",
      "  File \"/var/folders/dj/6p4w_3415gd7vr_k5c0wjgjc0000gn/T/ipykernel_87514/2327119212.py\", line 13, in check_pass\n",
      "    if char.islower():\n",
      "AttributeError: 'int' object has no attribute 'islower'\n",
      "\n",
      "======================================================================\n",
      "ERROR: runTest (mod.testing.test_pass.<locals>.TestKnown)\n",
      "----------------------------------------------------------------------\n",
      "Traceback (most recent call last):\n",
      "  File \"/Users/narea/Desktop/ironhack/labs/lab-functions/mod/testing.py\", line 202, in runTest\n",
      "    self.assertEqual(fn(self.input), self.output, f\"Should be {self.output}\")\n",
      "  File \"/var/folders/dj/6p4w_3415gd7vr_k5c0wjgjc0000gn/T/ipykernel_87514/2327119212.py\", line 13, in check_pass\n",
      "    if char.islower():\n",
      "AttributeError: 'int' object has no attribute 'islower'\n",
      "\n",
      "----------------------------------------------------------------------\n",
      "Ran 100 tests in 0.703s\n",
      "\n",
      "FAILED (errors=100)\n"
     ]
    }
   ],
   "source": [
    "# This will test your function \n",
    "test_pass(check_pass)"
   ]
  },
  {
   "cell_type": "code",
   "execution_count": null,
   "metadata": {},
   "outputs": [],
   "source": []
  }
 ],
 "metadata": {
  "kernelspec": {
   "display_name": "Python 3 (ipykernel)",
   "language": "python",
   "name": "python3"
  },
  "language_info": {
   "codemirror_mode": {
    "name": "ipython",
    "version": 3
   },
   "file_extension": ".py",
   "mimetype": "text/x-python",
   "name": "python",
   "nbconvert_exporter": "python",
   "pygments_lexer": "ipython3",
   "version": "3.9.13"
  },
  "vscode": {
   "interpreter": {
    "hash": "aee8b7b246df8f9039afb4144a1f6fd8d2ca17a180786b69acc140d282b71a49"
   }
  }
 },
 "nbformat": 4,
 "nbformat_minor": 4
}
