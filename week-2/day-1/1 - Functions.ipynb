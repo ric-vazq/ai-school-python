{
 "cells": [
  {
   "cell_type": "markdown",
   "id": "9eb0f57b",
   "metadata": {
    "lang": "en"
   },
   "source": [
    "# Functional Programming"
   ]
  },
  {
   "cell_type": "markdown",
   "id": "conceptual-behalf",
   "metadata": {},
   "source": [
    "![elgif](https://media.giphy.com/media/CuMiNoTRz2bYc/giphy.gif)\n",
    "\n",
    "\n",
    "Functional programming is a programming paradigm that treats computation as the evaluation of mathematical functions and avoids changing state and mutable data. It is a declarative style of programming that focuses on expressing what should be done rather than how it should be done. In functional programming, functions are first-class citizens, which means **they can be treated like any other data type, such as integers or strings.**\n",
    "\n",
    "Functional programming emphasizes the use of pure functions, which are functions that have no side effects and always produce the same output for the same input. Pure functions are deterministic and rely only on their input parameters to calculate the result, making them predictable and easy to reason about.\n",
    "\n",
    "Some key concepts in functional programming include:\n",
    "\n",
    "1. **Immutable Data**: In functional programming, data is typically immutable, which means once it is created, it cannot be modified. Instead, new data is created by applying transformations to existing data.\n",
    "\n",
    "2. **Higher-Order Functions**: Functional programming languages support higher-order functions, which are functions that can take other functions as arguments or return functions as results. This allows for more abstract and reusable code.\n",
    "\n",
    "3. **Recursion**: Recursion is often used in functional programming to solve problems by breaking them down into smaller, similar sub-problems. Recursion replaces loops in imperative programming.\n",
    "\n",
    "4. **First-Class Functions**: In functional programming languages, functions are first-class citizens, meaning they can be assigned to variables, passed as arguments, and returned as values.\n",
    "\n",
    "5. **Map, Filter, and Reduce**: Functional programming languages commonly use functions like `map`, `filter`, and `reduce` to process collections of data in a functional way. These functions abstract away the details of iteration and mutable state.\n",
    "\n",
    "Functional programming languages, such as Haskell, Lisp, and Erlang, are designed with functional principles in mind. However, many mainstream programming languages, including Python, JavaScript, and Ruby, also support functional programming to varying degrees. Developers can apply functional programming concepts and techniques in these languages to write more concise, predictable, and maintainable code.\n",
    "\n",
    "In this notebook, we will explore functional programming concepts and how they can be applied in practice using Python, a language that combines functional and imperative programming paradigms."
   ]
  },
  {
   "cell_type": "markdown",
   "id": "c8dbbad6",
   "metadata": {
    "lang": "en"
   },
   "source": [
    "## Your contributions 🚀\n",
    "What are your thoughts on functions in functional programming? Do you have experiences, examples, or questions related to their properties and usefulness? Feel free to contribute your insights and engage in discussions with fellow learners as we delve deeper into the world of functional programming. Your contributions are valuable and can enhance our collective understanding of this programming paradigm."
   ]
  },
  {
   "cell_type": "markdown",
   "id": "67819644",
   "metadata": {},
   "source": [
    "#### A function is/does: ...\n",
    "\n",
    "![](https://media.makeameme.org/created/no-pressure-5b8539.jpg)"
   ]
  },
  {
   "cell_type": "markdown",
   "id": "199cb1a8",
   "metadata": {
    "lang": "en"
   },
   "source": [
    "**Usefulness of Functions:** Functions are incredibly useful in various programming scenarios, and they offer several advantages:\n",
    "\n",
    "- **Modularity**: Functions encapsulate specific behavior or logic, making it easier to organize and maintain code. Modular code is more reusable and easier to test.\n",
    "\n",
    "- **Abstraction**: Functions allow you to abstract away complex operations behind a simple interface. This abstraction simplifies code consumption and promotes a clear separation of concerns.\n",
    "\n",
    "- **Reusability**: Well-designed functions can be reused across different parts of your codebase or even in different projects. This reuse reduces duplicated code and promotes consistency.\n",
    "\n",
    "- **Testing**: Functions make it easier to write unit tests. With pure functions, you can predict the output for a given input, simplifying the testing process.\n",
    "\n",
    "- **Readability**: Functions with clear names and well-defined responsibilities improve code readability and make it easier for other developers (and your future self) to understand the code.\n",
    "\n",
    "![](https://www.thetechedvocate.org/wp-content/uploads/2023/05/1_709ugF12LLkYxvb839YNlg.png)\n",
    "\n",
    "\n",
    "## What is functional programming?: paradigms\n",
    "\n",
    "In the world of programming, a paradigm is a fundamental approach or style for structuring code and solving problems. Different programming languages are often associated with specific paradigms that guide how developers write and organize their code. **Python**, as a versatile and flexible language, is often referred to as a **multi-paradigm programming language**. But what exactly does this mean?\n",
    "\n",
    "When we say that Python is a multi-paradigm programming language, we mean that it welcomes and supports multiple programming styles or paradigms. These paradigms are like different lenses through which developers can view and address problems. Python is known for its philosophy, which emphasizes code readability and simplicity, and it accommodates various paradigms to offer developers the freedom to choose the most suitable approach for a given task.\n",
    "\n",
    "\n",
    "**The Three Predominant Paradigms:** Python primarily supports three predominant paradigms, each offering a distinct way of organizing and structuring code:"
   ]
  },
  {
   "cell_type": "markdown",
   "id": "1a292435",
   "metadata": {},
   "source": [
    "1. **Imperative Programming**: Imperative programming is a traditional and commonly used paradigm. It focuses on describing the sequence of steps or instructions to achieve a specific goal. In imperative programming, you write code that explicitly states how to perform actions, manipulate data, and control program flow. Python allows developers to write imperative code when needed."
   ]
  },
  {
   "cell_type": "code",
   "execution_count": null,
   "id": "f67456a2",
   "metadata": {},
   "outputs": [],
   "source": [
    "# Imperative Programming Example\n",
    "\n",
    "# Suppose we want to calculate the sum of the first 5 positive integers (1 + 2 + 3 + 4 + 5) using imperative programming.\n",
    "\n",
    "# Initialize a variable to store the sum\n",
    "sum_of_numbers = 0\n",
    "\n",
    "# Use a loop to iterate through the numbers\n",
    "for i in range(1, 6):\n",
    "    # Add the current number to the sum\n",
    "    sum_of_numbers += i\n",
    "\n",
    "# Print the result\n",
    "print(\"The sum of the first 5 positive integers is:\", sum_of_numbers)"
   ]
  },
  {
   "cell_type": "markdown",
   "id": "20b50a5d",
   "metadata": {},
   "source": [
    "In this example:\n",
    "\n",
    "- We start by initializing a variable `sum_of_numbers` to store the sum.\n",
    "\n",
    "- We use a for loop to iterate through the numbers from 1 to 5. Inside the loop:\n",
    "\n",
    "  - We add the current number `i` to the `sum_of_numbers` using the `+=` operator. This is the imperative part where we explicitly specify the steps to update the sum.\n",
    "\n",
    "- Finally, we print the result."
   ]
  },
  {
   "cell_type": "markdown",
   "id": "02cb1e2b",
   "metadata": {},
   "source": [
    "2. **Object-Oriented Programming (OOP)**: Python excels in object-oriented programming. In this paradigm, code is organized around objects, which are instances of classes. Objects encapsulate data and behavior, making it easier to model real-world entities and their interactions. Python provides robust support for creating and working with classes and objects."
   ]
  },
  {
   "cell_type": "markdown",
   "id": "77fcc965",
   "metadata": {},
   "source": [
    "```python\n",
    "# Define a class called \"Person\"\n",
    "class Person:\n",
    "    # Constructor method to initialize the object's properties\n",
    "    def __init__(self, name, age):\n",
    "        self.name = name\n",
    "        self.age = age\n",
    "```\n",
    "- We start by defining a class called \"Person.\" Think of a class as a blueprint for creating objects. In this case, we're creating a blueprint for representing people.\n",
    "\n",
    "- Inside the class, we have a special method called `__init__`. This method is a constructor, which means it gets called automatically when a new object of the class is created.\n",
    "\n",
    "- The `__init__` method takes three parameters: `self` (a reference to the object being created), `name`, and `age`. It initializes two properties of the object: `name` and `age`.\n",
    "\n",
    "```python\n",
    "\n",
    "    # Method to display information about the person\n",
    "    def display_info(self):\n",
    "        print(f\"Name: {self.name}, Age: {self.age}\")\n",
    "```\n",
    "\n",
    "- Next, we define a method called `display_info` within the class. This method is used to display information about the person.\n",
    "\n",
    "- The `self` parameter is a reference to the object itself. It allows us to access the object's properties (in this case, `name` and `age`) within the method.\n",
    "\n",
    "- Inside the `display_info` method, we use the `print` function to display the person's name and age.\n",
    "\n",
    "```python\n",
    "\n",
    "# Create two instances (objects) of the Person class\n",
    "person1 = Person(\"Alice\", 30)\n",
    "person2 = Person(\"Bob\", 25)\n",
    "```\n",
    "\n",
    "- Now, we create two instances (or objects) of the `Person` class: `person1` and `person2`. These objects represent individual people.\n",
    "\n",
    "- We provide values for the `name` and `age` properties when creating each object. For example, `person1` represents a person named \"Alice\" who is 30 years old.\n",
    "\n",
    "```python\n",
    "# Call the display_info() method for each person\n",
    "person1.display_info()\n",
    "person2.display_info()\n",
    "```\n",
    "\n",
    "- Finally, we call the `display_info` method for each person object. This method displays their name and age."
   ]
  },
  {
   "cell_type": "code",
   "execution_count": null,
   "id": "1a042fd3",
   "metadata": {},
   "outputs": [],
   "source": [
    "# Define a class called \"Person\"\n",
    "class Person:\n",
    "    # Constructor method to initialize the object's properties\n",
    "    def __init__(self, name, age):\n",
    "        self.name = name\n",
    "        self.age = age\n",
    "\n",
    "    # Method to display information about the person\n",
    "    def display_info(self):\n",
    "        print(f\"Name: {self.name}, Age: {self.age}\")\n",
    "\n",
    "# Create two instances (objects) of the Person class\n",
    "person1 = Person(\"Alice\", 30)\n",
    "person2 = Person(\"Bob\", 25)\n",
    "\n",
    "# Call the display_info() method for each person\n",
    "person1.display_info()\n",
    "person2.display_info()"
   ]
  },
  {
   "cell_type": "markdown",
   "id": "2a679fd0",
   "metadata": {},
   "source": [
    "3. **Functional Programming (FP)**: Functional programming is a paradigm that treats computation as the evaluation of mathematical functions and avoids changing state and mutable data. It encourages immutability, pure functions, and the use of higher-order functions. While Python is not a purely functional language like Haskell, it offers functional programming features and can be used in a functional style to write clean and concise code."
   ]
  },
  {
   "cell_type": "code",
   "execution_count": null,
   "id": "8a9c96f4",
   "metadata": {},
   "outputs": [],
   "source": [
    "# Define a function\n",
    "def greet(name):\n",
    "    return f\"Hello, {name}!\""
   ]
  },
  {
   "cell_type": "code",
   "execution_count": null,
   "id": "ba3d56c6",
   "metadata": {},
   "outputs": [],
   "source": [
    "greet(\"Santi\")"
   ]
  },
  {
   "cell_type": "code",
   "execution_count": null,
   "id": "c62ffe83",
   "metadata": {},
   "outputs": [],
   "source": [
    "greet(\"Clara\")"
   ]
  },
  {
   "cell_type": "code",
   "execution_count": null,
   "id": "f7cd903a",
   "metadata": {},
   "outputs": [],
   "source": [
    "greet(\"Laura\")"
   ]
  },
  {
   "cell_type": "markdown",
   "id": "9197a86b",
   "metadata": {},
   "source": [
    "## USER - DEFINED FUNCTIONS\n",
    "\n",
    "In Python, you can create your own functions to encapsulate a specific set of instructions and reuse them throughout your code. These functions are called user-defined functions. Let's break down the key components of user-defined functions:\n",
    "\n",
    "- **`def`**: The `def` keyword is used to define a new function. It is followed by the function's name, parentheses, and a colon. For example, `def my_function():` defines a function named `my_function`.\n",
    "\n",
    "- **`name`**: The name of the function is chosen by the programmer and should be descriptive of the function's purpose. It follows the `def` keyword, and in the example above, the name is `my_function`.\n",
    "\n",
    "- **`params`**: Inside the parentheses, you can specify parameters (also known as arguments) that the function will accept. Parameters are variables that act as placeholders for the values you pass into the function when you call it. For example, `def greet(name):` defines a function that accepts one parameter, `name`.\n",
    "\n",
    "- **`args`**: Arguments are the actual values that you provide when calling a function. For instance, when you call `greet(\"Alice\")`, `\"Alice\"` is the argument passed to the `name` parameter.\n",
    "\n",
    "- **`return`**: The `return` statement is used to specify what the function should output or return. Functions can perform calculations or processes and then return a result. For example, `def add(x, y): return x + y` defines a function that adds two numbers and returns the result.\n",
    "\n",
    "- **`docstrings`**: Docstrings (documentation strings) are used to provide a description of what the function does. They are enclosed in triple quotes (either single or double) and are placed immediately after the function definition. Docstrings help other programmers (and yourself) understand the purpose and usage of the function. For instance:\n",
    "\n",
    "  ```python\n",
    "  # Defining input and output type, is part of clean code standards (however, not many people use it)\n",
    "  def greet(name: str) -> str:\n",
    "      \"\"\"\n",
    "      This function greets the person passed in as a parameter.\n",
    "      \"\"\"\n",
    "      return f\"Hello, {name}!\"\n",
    "  ```\n",
    "- **`source code`**: The source code of the function contains the actual instructions that the function performs. It is indented below the function definition and is executed when the function is called."
   ]
  },
  {
   "cell_type": "markdown",
   "id": "85d6428d",
   "metadata": {
    "lang": "en"
   },
   "source": [
    "**Syntax for DEFINING a function**\n",
    "\n",
    "To define a function in Python, use the following syntax:\n",
    "\n",
    "```python\n",
    "\n",
    "def name_function(input params):\n",
    "    # The colon and the indentation indicate that we're defining a function.\n",
    "    # Inside the function, you take some action or perform a series of operations.\n",
    "    take an action\n",
    "    return() # The return statement specifies the value to be returned from the function.\n",
    "```\n",
    "\n",
    "In this syntax:\n",
    "\n",
    "- `def` is the keyword used to define a function.\n",
    "- `name_function` is the name you give to your function. It should follow Python naming conventions and be descriptive of the function's purpose.\n",
    "- `input_params` are the parameters (inputs) that the function expects. They are enclosed in parentheses and separated by commas if there are multiple parameters.\n",
    "- The colon `:` and the indentation (whitespace) are used to define the function's code block. Everything indented under the function definition is part of the function's body.\n",
    "- Inside the function, you write the code to perform specific actions or calculations.\n",
    "- The `return` statement specifies what value the function should produce as output. It ends the execution of the function and sends the result back to the caller.\n",
    "\n",
    "\n",
    "**Syntax for CALLING a function**\n",
    "\n",
    "To call (invoke) a function in Python, you use the following syntax:\n",
    "\n",
    "`name_of_the_function(argument1, argument2, ...)`\n",
    "\n",
    "\n",
    "- `name_of_the_function` is the name of the function you want to call.\n",
    "- `argument1, argument2, ...` are the values or expressions you want to pass as arguments to the function. These are the inputs that the function will work with.\n",
    "\n",
    "If you want to save the result returned by the function, you can assign it to a variable like this:\n",
    "\n",
    "`result = name_of_the_function(argument1, argument2, ...)`\n",
    "\n",
    "In this case, `result` will hold the value returned by the function, and you can use it in your code as needed.\n",
    "\n",
    "#### Example:"
   ]
  },
  {
   "cell_type": "code",
   "execution_count": null,
   "id": "3ac13319",
   "metadata": {},
   "outputs": [],
   "source": [
    "def addition (a, b):\n",
    "    return a + b\n",
    "\n",
    "a = 10\n",
    "\n",
    "addition(a, 10)"
   ]
  },
  {
   "cell_type": "markdown",
   "id": "28a2d72b",
   "metadata": {
    "lang": "en"
   },
   "source": [
    "## Lambda\n",
    "Lambda functions, also known as anonymous functions, are a concise way to define small, simple functions in Python. Unlike regular functions defined using the `def` keyword, lambda functions are anonymous and often used for short, one-off operations.\n",
    "\n",
    "### Syntax of a Lambda Function\n",
    "\n",
    "A lambda function has the following syntax:\n",
    "\n",
    "```python\n",
    "lambda <param list>:<return expression>\n",
    "```\n",
    "In this syntax, `<param list>` represents the list of parameters the lambda function takes, and `<return expression>` is the expression that defines what the lambda function returns. Lambda functions are particularly useful when you need to pass a simple function as an argument to another function or use them in situations where a full function definition is unnecessary."
   ]
  },
  {
   "cell_type": "code",
   "execution_count": null,
   "id": "70f92966",
   "metadata": {},
   "outputs": [],
   "source": [
    "# Example 1: Lambda function that adds two numbers\n",
    "add = lambda x, y: x + y\n",
    "result = add(3, 5)  # Result will be 8"
   ]
  },
  {
   "cell_type": "code",
   "execution_count": null,
   "id": "bb727a71",
   "metadata": {},
   "outputs": [],
   "source": [
    "# Example 2: Lambda function that calculates the square of a number\n",
    "square = lambda x: x ** 2\n",
    "result = square(4)  # Result will be 16"
   ]
  },
  {
   "cell_type": "code",
   "execution_count": null,
   "id": "b9db6d51",
   "metadata": {},
   "outputs": [],
   "source": [
    "# Example 3: Lambda function to check if a number is even\n",
    "is_even = lambda x: x % 2 == 0\n",
    "result = is_even(6)  # Result will be True"
   ]
  },
  {
   "cell_type": "code",
   "execution_count": null,
   "id": "df627f42",
   "metadata": {},
   "outputs": [],
   "source": [
    "# Example 4: Lambda function to extract the last character of a string\n",
    "get_last_char = lambda s: s[-1]\n",
    "result = get_last_char(\"Hello\")  # Result will be \"o\""
   ]
  },
  {
   "cell_type": "markdown",
   "id": "51204969",
   "metadata": {},
   "source": [
    "## Functions: functions as return of another function\n",
    "\n",
    "In Python, functions are not limited to being just blocks of code that perform specific tasks; they can also be used as data. This means you can define functions inside other functions and even return functions from other functions.\n",
    "\n",
    "Functions that return other functions are known as higher-order functions. These higher-order functions allow you to create specialized functions on the fly, making your code more dynamic and adaptable. Here's how it works:\n",
    "\n",
    "1. A function can be defined within another function.\n",
    "2. The inner function can capture and remember the variables from its containing (outer) function. This concept is known as \"closure.\"\n",
    "3. The outer function can return the inner function as a result.\n",
    "\n",
    "This functionality enables you to customize the behavior of functions based on certain conditions or configurations, which can be extremely useful in various programming scenarios.\n",
    "\n",
    "Let's explore this concept further with some examples to see how functions can be returned from other functions.\n"
   ]
  },
  {
   "cell_type": "code",
   "execution_count": null,
   "id": "8f32911f",
   "metadata": {},
   "outputs": [],
   "source": [
    "def greater_function (a, b):\n",
    "    if a > b:\n",
    "        return a\n",
    "    elif b > a:\n",
    "        return b"
   ]
  },
  {
   "cell_type": "code",
   "execution_count": null,
   "id": "abb606b1",
   "metadata": {},
   "outputs": [],
   "source": [
    "greater_function (3, 10)"
   ]
  },
  {
   "cell_type": "code",
   "execution_count": null,
   "id": "f08c4f12",
   "metadata": {},
   "outputs": [],
   "source": [
    "def lesser_function (x, y):\n",
    "    if x > y:\n",
    "        return y\n",
    "    elif y > x:\n",
    "        return x"
   ]
  },
  {
   "cell_type": "code",
   "execution_count": null,
   "id": "ceb69a36",
   "metadata": {},
   "outputs": [],
   "source": [
    "lesser_function (3, 10)"
   ]
  },
  {
   "cell_type": "code",
   "execution_count": null,
   "id": "216673ca",
   "metadata": {},
   "outputs": [],
   "source": [
    "def comparison (type_of_comparison): # lesser, greater\n",
    "    if type_of_comparison == \"greater\":\n",
    "        return greater_function\n",
    "    \n",
    "    elif type_of_comparison == \"lesser\":\n",
    "        return lesser_function"
   ]
  },
  {
   "cell_type": "code",
   "execution_count": null,
   "id": "581ecfc7",
   "metadata": {},
   "outputs": [],
   "source": [
    "comparison(\"greater\")(3, 10)"
   ]
  },
  {
   "cell_type": "code",
   "execution_count": null,
   "id": "d53723db",
   "metadata": {},
   "outputs": [],
   "source": [
    "comparison(\"lesser\")(3, 10)"
   ]
  },
  {
   "cell_type": "markdown",
   "id": "709d11f3",
   "metadata": {},
   "source": [
    "In the given example:\n",
    "\n",
    "1. We have three functions: `greater_function`, `lesser_function`, and `comparison`.\n",
    "\n",
    "2. `greater_function` and `lesser_function` are responsible for comparing two values and returning the greater or lesser value, respectively.\n",
    "\n",
    "3. The `comparison` function takes a `type_of_comparison` argument, which can be either \"greater\" or \"lesser.\"\n",
    "\n",
    "4. Inside the `comparison` function, we use conditional statements to determine which function (`greater_function` or `lesser_function`) to return based on the `type_of_comparison`.\n",
    "\n",
    "5. When we call `comparison(\"greater\")`, it returns a reference to `greater_function` but does not execute it immediately.\n",
    "\n",
    "6. Now that we have a reference to `greater_function`, we can invoke it with specific arguments, such as `greater_function(3, 10)`.\n",
    "\n",
    "7. The call `comparison(\"greater\")(3, 10)` is equivalent to `greater_function(3, 10)`, where `greater_function` is executed with the arguments `3` and `10`.\n",
    "\n",
    "8. As a result, it returns the greater of the two numbers, which is `10`.\n",
    "\n",
    "This demonstrates the concept of returning functions as first-class objects in Python, allowing for dynamic selection and execution of functions based on conditions. Using lambda, inside a function:\n"
   ]
  },
  {
   "cell_type": "code",
   "execution_count": null,
   "id": "c4e20987",
   "metadata": {},
   "outputs": [],
   "source": [
    "def comparison (type_of_comparison): # lesser, greater\n",
    "    if type_of_comparison == \"greater\":\n",
    "        return greater_function\n",
    "    \n",
    "    elif type_of_comparison == \"lesser\":\n",
    "        return lambda x, y: x if x < y else y"
   ]
  }
 ],
 "metadata": {
  "kernelspec": {
   "display_name": "Python 3 (ipykernel)",
   "language": "python",
   "name": "python3"
  },
  "language_info": {
   "codemirror_mode": {
    "name": "ipython",
    "version": 3
   },
   "file_extension": ".py",
   "mimetype": "text/x-python",
   "name": "python",
   "nbconvert_exporter": "python",
   "pygments_lexer": "ipython3",
   "version": "3.9.13"
  },
  "nbTranslate": {
   "displayLangs": [
    "en",
    "es"
   ],
   "hotkey": "alt-a",
   "langInMainMenu": true,
   "sourceLang": "es",
   "targetLang": "en",
   "useGoogleTranslate": true
  },
  "toc": {
   "base_numbering": 1,
   "nav_menu": {},
   "number_sections": true,
   "sideBar": true,
   "skip_h1_title": true,
   "title_cell": "Table of Contents",
   "title_sidebar": "Contents",
   "toc_cell": true,
   "toc_position": {
    "height": "calc(100% - 180px)",
    "left": "10px",
    "top": "150px",
    "width": "288px"
   },
   "toc_section_display": true,
   "toc_window_display": false
  }
 },
 "nbformat": 4,
 "nbformat_minor": 5
}
